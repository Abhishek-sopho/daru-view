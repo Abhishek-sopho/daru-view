{
 "cells": [
  {
   "cell_type": "code",
   "execution_count": 1,
   "metadata": {
    "collapsed": false
   },
   "outputs": [
    {
     "name": "stderr",
     "output_type": "stream",
     "text": [
      "\n",
      "Install the spreadsheet gem version ~>1.1.1 for using spreadsheet functions.\n",
      "\n",
      "Install the mechanize gem version ~>2.7.5 for using mechanize functions.\n"
     ]
    },
    {
     "data": {
      "application/javascript": [
       "if(window['d3'] === undefined ||\n",
       "   window['Nyaplot'] === undefined){\n",
       "    var path = {\"d3\":\"https://cdnjs.cloudflare.com/ajax/libs/d3/3.5.5/d3.min\",\"downloadable\":\"http://cdn.rawgit.com/domitry/d3-downloadable/master/d3-downloadable\"};\n",
       "\n",
       "\n",
       "\n",
       "    var shim = {\"d3\":{\"exports\":\"d3\"},\"downloadable\":{\"exports\":\"downloadable\"}};\n",
       "\n",
       "    require.config({paths: path, shim:shim});\n",
       "\n",
       "\n",
       "require(['d3'], function(d3){window['d3']=d3;console.log('finished loading d3');require(['downloadable'], function(downloadable){window['downloadable']=downloadable;console.log('finished loading downloadable');\n",
       "\n",
       "\tvar script = d3.select(\"head\")\n",
       "\t    .append(\"script\")\n",
       "\t    .attr(\"src\", \"http://cdn.rawgit.com/domitry/Nyaplotjs/master/release/nyaplot.js\")\n",
       "\t    .attr(\"async\", true);\n",
       "\n",
       "\tscript[0][0].onload = script[0][0].onreadystatechange = function(){\n",
       "\n",
       "\n",
       "\t    var event = document.createEvent(\"HTMLEvents\");\n",
       "\t    event.initEvent(\"load_nyaplot\",false,false);\n",
       "\t    window.dispatchEvent(event);\n",
       "\t    console.log('Finished loading Nyaplotjs');\n",
       "\n",
       "\t};\n",
       "\n",
       "\n",
       "});});\n",
       "}\n"
      ],
      "text/plain": [
       "\"if(window['d3'] === undefined ||\\n   window['Nyaplot'] === undefined){\\n    var path = {\\\"d3\\\":\\\"https://cdnjs.cloudflare.com/ajax/libs/d3/3.5.5/d3.min\\\",\\\"downloadable\\\":\\\"http://cdn.rawgit.com/domitry/d3-downloadable/master/d3-downloadable\\\"};\\n\\n\\n\\n    var shim = {\\\"d3\\\":{\\\"exports\\\":\\\"d3\\\"},\\\"downloadable\\\":{\\\"exports\\\":\\\"downloadable\\\"}};\\n\\n    require.config({paths: path, shim:shim});\\n\\n\\nrequire(['d3'], function(d3){window['d3']=d3;console.log('finished loading d3');require(['downloadable'], function(downloadable){window['downloadable']=downloadable;console.log('finished loading downloadable');\\n\\n\\tvar script = d3.select(\\\"head\\\")\\n\\t    .append(\\\"script\\\")\\n\\t    .attr(\\\"src\\\", \\\"http://cdn.rawgit.com/domitry/Nyaplotjs/master/release/nyaplot.js\\\")\\n\\t    .attr(\\\"async\\\", true);\\n\\n\\tscript[0][0].onload = script[0][0].onreadystatechange = function(){\\n\\n\\n\\t    var event = document.createEvent(\\\"HTMLEvents\\\");\\n\\t    event.initEvent(\\\"load_nyaplot\\\",false,false);\\n\\t    window.dispatchEvent(event);\\n\\t    console.log('Finished loading Nyaplotjs');\\n\\n\\t};\\n\\n\\n});});\\n}\\n\""
      ]
     },
     "metadata": {},
     "output_type": "display_data"
    },
    {
     "data": {
      "text/plain": [
       "true"
      ]
     },
     "execution_count": 1,
     "metadata": {},
     "output_type": "execute_result"
    }
   ],
   "source": [
    "require 'daru/view'"
   ]
  },
  {
   "cell_type": "markdown",
   "metadata": {},
   "source": [
    "# Categorical Vector Visualization"
   ]
  },
  {
   "cell_type": "code",
   "execution_count": 2,
   "metadata": {
    "collapsed": false
   },
   "outputs": [
    {
     "data": {
      "text/html": [
       "<table>\n",
       "  <tr>\n",
       "    <th colspan=\"2\">Daru::Vector(6):category</th>\n",
       "  </tr>\n",
       "  \n",
       "\n",
       "  \n",
       "    <tr>\n",
       "      <td>0</td>\n",
       "      <td>a</td>\n",
       "    </tr>\n",
       "  \n",
       "    <tr>\n",
       "      <td>1</td>\n",
       "      <td>a</td>\n",
       "    </tr>\n",
       "  \n",
       "    <tr>\n",
       "      <td>2</td>\n",
       "      <td>a</td>\n",
       "    </tr>\n",
       "  \n",
       "    <tr>\n",
       "      <td>3</td>\n",
       "      <td>b</td>\n",
       "    </tr>\n",
       "  \n",
       "    <tr>\n",
       "      <td>4</td>\n",
       "      <td>b</td>\n",
       "    </tr>\n",
       "  \n",
       "    <tr>\n",
       "      <td>5</td>\n",
       "      <td>c</td>\n",
       "    </tr>\n",
       "  \n",
       "\n",
       "  \n",
       "</table>"
      ],
      "text/plain": [
       "#<Daru::Vector(6):cataegory>\n",
       "   0   a\n",
       "   1   a\n",
       "   2   a\n",
       "   3   b\n",
       "   4   b\n",
       "   5   c"
      ]
     },
     "execution_count": 2,
     "metadata": {},
     "output_type": "execute_result"
    }
   ],
   "source": [
    "dv = Daru::Vector.new [:a, :a, :a, :b, :b, :c], type: :category"
   ]
  },
  {
   "cell_type": "markdown",
   "metadata": {},
   "source": [
    "### Bar graph\n",
    "\n",
    "##### 1. Frequency (count)"
   ]
  },
  {
   "cell_type": "code",
   "execution_count": 3,
   "metadata": {
    "collapsed": false
   },
   "outputs": [
    {
     "data": {
      "text/plain": [
       "#<Daru::View::Plot:0x007fb2cd429d20 @adapter=Daru::View::Adapter::NyaplotAdapter, @chart=#<Nyaplot::Plot:0x007fb2cd429ca8 @properties={:diagrams=>[#<Nyaplot::Diagram:0x007fb2cd423f88 @properties={:type=>:bar, :options=>{:x=>\"data0\", :y=>\"data1\"}, :data=>\"b95cc6df-7f7f-40a4-9059-d751b75baa84\"}, @xrange=[:a, :b, :c], @yrange=[0, 3]>], :options=>{}}>>"
      ]
     },
     "execution_count": 3,
     "metadata": {},
     "output_type": "execute_result"
    }
   ],
   "source": [
    "bar_graph1 = Daru::View::Plot.new(dv, type: :bar)"
   ]
  },
  {
   "cell_type": "code",
   "execution_count": 4,
   "metadata": {
    "collapsed": false
   },
   "outputs": [
    {
     "data": {
      "text/plain": [
       "Nyaplot::Plot"
      ]
     },
     "execution_count": 4,
     "metadata": {},
     "output_type": "execute_result"
    }
   ],
   "source": [
    "bar_graph1.chart.class"
   ]
  },
  {
   "cell_type": "code",
   "execution_count": 5,
   "metadata": {
    "collapsed": false
   },
   "outputs": [
    {
     "data": {
      "text/html": [
       "<div id='vis-97ea9ce6-99f4-409b-bdc3-0db176597717'></div>\n",
       "<script>\n",
       "(function(){\n",
       "    var render = function(){\n",
       "        var model = {\"panes\":[{\"diagrams\":[{\"type\":\"bar\",\"options\":{\"x\":\"data0\",\"y\":\"data1\"},\"data\":\"b95cc6df-7f7f-40a4-9059-d751b75baa84\"}],\"options\":{\"width\":700,\"xrange\":[\"a\",\"b\",\"c\"],\"yrange\":[0,3]}}],\"data\":{\"b95cc6df-7f7f-40a4-9059-d751b75baa84\":[{\"data0\":\"a\",\"data1\":3},{\"data0\":\"b\",\"data1\":2},{\"data0\":\"c\",\"data1\":1}]},\"extension\":[]}\n",
       "        var id_name = '#vis-97ea9ce6-99f4-409b-bdc3-0db176597717';\n",
       "        Nyaplot.core.parse(model, id_name);\n",
       "\n",
       "        require(['downloadable'], function(downloadable){\n",
       "          var svg = d3.select(id_name).select(\"svg\");\n",
       "\t  if(!svg.empty())\n",
       "\t    svg.call(downloadable().filename('fig'));\n",
       "\t});\n",
       "    };\n",
       "    if(window['Nyaplot']==undefined){\n",
       "        window.addEventListener('load_nyaplot', render, false);\n",
       "\treturn;\n",
       "    } else {\n",
       "       render();\n",
       "    }\n",
       "})();\n",
       "</script>\n"
      ],
      "text/plain": [
       "#<Nyaplot::Frame:0x007fb2cd3c91c8 @properties={:panes=>[#<Nyaplot::Plot:0x007fb2cd429ca8 @properties={:diagrams=>[#<Nyaplot::Diagram:0x007fb2cd423f88 @properties={:type=>:bar, :options=>{:x=>\"data0\", :y=>\"data1\"}, :data=>\"b95cc6df-7f7f-40a4-9059-d751b75baa84\"}, @xrange=[:a, :b, :c], @yrange=[0, 3]>], :options=>{:width=>700, :xrange=>[:a, :b, :c], :yrange=>[0, 3]}}>], :data=>{\"b95cc6df-7f7f-40a4-9059-d751b75baa84\"=>#<Nyaplot::DataFrame:0x007fb2cd428a88 @name=\"b95cc6df-7f7f-40a4-9059-d751b75baa84\", @rows=[{:data0=>:a, :data1=>3}, {:data0=>:b, :data1=>2}, {:data0=>:c, :data1=>1}]>}, :extension=>[]}>"
      ]
     },
     "metadata": {},
     "output_type": "display_data"
    }
   ],
   "source": [
    "bar_graph1.show_in_iruby"
   ]
  },
  {
   "cell_type": "code",
   "execution_count": 6,
   "metadata": {
    "collapsed": false
   },
   "outputs": [
    {
     "data": {
      "text/plain": [
       ":category"
      ]
     },
     "execution_count": 6,
     "metadata": {},
     "output_type": "execute_result"
    }
   ],
   "source": [
    "dv = Daru::Vector.new ['III']*10 + ['II']*5 + ['I']*5, type: :category, categories: ['I', 'II', 'III']\n",
    "dv.type"
   ]
  },
  {
   "cell_type": "code",
   "execution_count": 7,
   "metadata": {
    "collapsed": false
   },
   "outputs": [
    {
     "data": {
      "text/plain": [
       "#<Daru::View::Plot:0x007fb2cc2d1ac8 @adapter=Daru::View::Adapter::NyaplotAdapter, @chart=#<Nyaplot::Plot:0x007fb2cc2d1a78 @properties={:diagrams=>[#<Nyaplot::Diagram:0x007fb2cc2d0858 @properties={:type=>:bar, :options=>{:x=>\"data0\", :y=>\"data1\"}, :data=>\"e440efae-8482-48c6-97dc-06c3b629a358\"}, @xrange=[\"I\", \"II\", \"III\"], @yrange=[0, 10]>], :options=>{}}>>"
      ]
     },
     "execution_count": 7,
     "metadata": {},
     "output_type": "execute_result"
    }
   ],
   "source": [
    "bar_graph2 = Daru::View::Plot.new(dv, type: :bar)"
   ]
  },
  {
   "cell_type": "code",
   "execution_count": 8,
   "metadata": {
    "collapsed": false
   },
   "outputs": [
    {
     "data": {
      "text/plain": [
       "Daru::View::Plot"
      ]
     },
     "execution_count": 8,
     "metadata": {},
     "output_type": "execute_result"
    }
   ],
   "source": [
    "bar_graph2.class"
   ]
  },
  {
   "cell_type": "code",
   "execution_count": 9,
   "metadata": {
    "collapsed": false
   },
   "outputs": [
    {
     "data": {
      "text/plain": [
       "Nyaplot::Plot"
      ]
     },
     "execution_count": 9,
     "metadata": {},
     "output_type": "execute_result"
    }
   ],
   "source": [
    "bar_graph2.chart.class"
   ]
  },
  {
   "cell_type": "code",
   "execution_count": 10,
   "metadata": {
    "collapsed": false
   },
   "outputs": [
    {
     "data": {
      "text/html": [
       "<div id='vis-1ad8afef-18d2-415d-a69f-3562d81f5d0c'></div>\n",
       "<script>\n",
       "(function(){\n",
       "    var render = function(){\n",
       "        var model = {\"panes\":[{\"diagrams\":[{\"type\":\"bar\",\"options\":{\"x\":\"data0\",\"y\":\"data1\"},\"data\":\"e440efae-8482-48c6-97dc-06c3b629a358\"}],\"options\":{\"x_label\":\"Cat\",\"y_label\":\"Frequency\",\"width\":700,\"xrange\":[\"I\",\"II\",\"III\"],\"yrange\":[0,10]}}],\"data\":{\"e440efae-8482-48c6-97dc-06c3b629a358\":[{\"data0\":\"I\",\"data1\":5},{\"data0\":\"II\",\"data1\":5},{\"data0\":\"III\",\"data1\":10}]},\"extension\":[]}\n",
       "        var id_name = '#vis-1ad8afef-18d2-415d-a69f-3562d81f5d0c';\n",
       "        Nyaplot.core.parse(model, id_name);\n",
       "\n",
       "        require(['downloadable'], function(downloadable){\n",
       "          var svg = d3.select(id_name).select(\"svg\");\n",
       "\t  if(!svg.empty())\n",
       "\t    svg.call(downloadable().filename('fig'));\n",
       "\t});\n",
       "    };\n",
       "    if(window['Nyaplot']==undefined){\n",
       "        window.addEventListener('load_nyaplot', render, false);\n",
       "\treturn;\n",
       "    } else {\n",
       "       render();\n",
       "    }\n",
       "})();\n",
       "</script>\n"
      ],
      "text/plain": [
       "#<Nyaplot::Plot:0x007fb2cc2d1a78 @properties={:diagrams=>[#<Nyaplot::Diagram:0x007fb2cc2d0858 @properties={:type=>:bar, :options=>{:x=>\"data0\", :y=>\"data1\"}, :data=>\"e440efae-8482-48c6-97dc-06c3b629a358\"}, @xrange=[\"I\", \"II\", \"III\"], @yrange=[0, 10]>], :options=>{:x_label=>\"Cat\", :y_label=>\"Frequency\", :width=>700, :xrange=>[\"I\", \"II\", \"III\"], :yrange=>[0, 10]}}>"
      ]
     },
     "execution_count": 10,
     "metadata": {},
     "output_type": "execute_result"
    }
   ],
   "source": [
    "# Nyaplot methods will work.Since #chart is Nyaplot::Plot class object\n",
    "bar_graph2.chart.x_label 'Cat'\n",
    "bar_graph2.chart.y_label 'Frequency'"
   ]
  },
  {
   "cell_type": "code",
   "execution_count": 11,
   "metadata": {
    "collapsed": false
   },
   "outputs": [
    {
     "data": {
      "text/html": [
       "<div id='vis-58eefcc2-f23b-4505-aa8e-bd362cf9daed'></div>\n",
       "<script>\n",
       "(function(){\n",
       "    var render = function(){\n",
       "        var model = {\"panes\":[{\"diagrams\":[{\"type\":\"bar\",\"options\":{\"x\":\"data0\",\"y\":\"data1\"},\"data\":\"e440efae-8482-48c6-97dc-06c3b629a358\"}],\"options\":{\"x_label\":\"Cat\",\"y_label\":\"Frequency\",\"width\":700,\"xrange\":[\"I\",\"II\",\"III\"],\"yrange\":[0,10]}}],\"data\":{\"e440efae-8482-48c6-97dc-06c3b629a358\":[{\"data0\":\"I\",\"data1\":5},{\"data0\":\"II\",\"data1\":5},{\"data0\":\"III\",\"data1\":10}]},\"extension\":[]}\n",
       "        var id_name = '#vis-58eefcc2-f23b-4505-aa8e-bd362cf9daed';\n",
       "        Nyaplot.core.parse(model, id_name);\n",
       "\n",
       "        require(['downloadable'], function(downloadable){\n",
       "          var svg = d3.select(id_name).select(\"svg\");\n",
       "\t  if(!svg.empty())\n",
       "\t    svg.call(downloadable().filename('fig'));\n",
       "\t});\n",
       "    };\n",
       "    if(window['Nyaplot']==undefined){\n",
       "        window.addEventListener('load_nyaplot', render, false);\n",
       "\treturn;\n",
       "    } else {\n",
       "       render();\n",
       "    }\n",
       "})();\n",
       "</script>\n"
      ],
      "text/plain": [
       "#<Nyaplot::Plot:0x007fb2cc2d1a78 @properties={:diagrams=>[#<Nyaplot::Diagram:0x007fb2cc2d0858 @properties={:type=>:bar, :options=>{:x=>\"data0\", :y=>\"data1\"}, :data=>\"e440efae-8482-48c6-97dc-06c3b629a358\"}, @xrange=[\"I\", \"II\", \"III\"], @yrange=[0, 10]>], :options=>{:x_label=>\"Cat\", :y_label=>\"Frequency\", :width=>700, :xrange=>[\"I\", \"II\", \"III\"], :yrange=>[0, 10]}}>"
      ]
     },
     "execution_count": 11,
     "metadata": {},
     "output_type": "execute_result"
    }
   ],
   "source": [
    "bar_graph2.chart # or bar_graph2.show_in_iruby"
   ]
  },
  {
   "cell_type": "markdown",
   "metadata": {},
   "source": [
    "#### 2. Percentage"
   ]
  },
  {
   "cell_type": "code",
   "execution_count": 12,
   "metadata": {
    "collapsed": false
   },
   "outputs": [
    {
     "data": {
      "text/plain": [
       "#<Daru::View::Plot:0x007fb2cd384938 @adapter=Daru::View::Adapter::NyaplotAdapter, @chart=#<Nyaplot::Plot:0x007fb2cd384910 @properties={:diagrams=>[#<Nyaplot::Diagram:0x007fb2cc9737f0 @properties={:type=>:bar, :options=>{:x=>\"data0\", :y=>\"data1\"}, :data=>\"ccbe84da-ad90-4bee-b7d3-285b37d7f648\"}, @xrange=[\"I\", \"II\", \"III\"], @yrange=[0, 50.0]>], :options=>{:yrange=>[0, 100]}}>>"
      ]
     },
     "execution_count": 12,
     "metadata": {},
     "output_type": "execute_result"
    }
   ],
   "source": [
    "bar_graph2_per = Daru::View::Plot.new(dv, type: :bar, method: :percentage)"
   ]
  },
  {
   "cell_type": "code",
   "execution_count": 13,
   "metadata": {
    "collapsed": false
   },
   "outputs": [
    {
     "data": {
      "text/html": [
       "<div id='vis-2239015d-8300-4ec7-927d-e3b9b5347925'></div>\n",
       "<script>\n",
       "(function(){\n",
       "    var render = function(){\n",
       "        var model = {\"panes\":[{\"diagrams\":[{\"type\":\"bar\",\"options\":{\"x\":\"data0\",\"y\":\"data1\"},\"data\":\"ccbe84da-ad90-4bee-b7d3-285b37d7f648\"}],\"options\":{\"yrange\":[0,100],\"x_label\":\"Categories\",\"y_label\":\"Percentage (%)\",\"width\":700,\"xrange\":[\"I\",\"II\",\"III\"]}}],\"data\":{\"ccbe84da-ad90-4bee-b7d3-285b37d7f648\":[{\"data0\":\"I\",\"data1\":25.0},{\"data0\":\"II\",\"data1\":25.0},{\"data0\":\"III\",\"data1\":50.0}]},\"extension\":[]}\n",
       "        var id_name = '#vis-2239015d-8300-4ec7-927d-e3b9b5347925';\n",
       "        Nyaplot.core.parse(model, id_name);\n",
       "\n",
       "        require(['downloadable'], function(downloadable){\n",
       "          var svg = d3.select(id_name).select(\"svg\");\n",
       "\t  if(!svg.empty())\n",
       "\t    svg.call(downloadable().filename('fig'));\n",
       "\t});\n",
       "    };\n",
       "    if(window['Nyaplot']==undefined){\n",
       "        window.addEventListener('load_nyaplot', render, false);\n",
       "\treturn;\n",
       "    } else {\n",
       "       render();\n",
       "    }\n",
       "})();\n",
       "</script>\n"
      ],
      "text/plain": [
       "#<Nyaplot::Frame:0x007fb2cd35be98 @properties={:panes=>[#<Nyaplot::Plot:0x007fb2cd384910 @properties={:diagrams=>[#<Nyaplot::Diagram:0x007fb2cc9737f0 @properties={:type=>:bar, :options=>{:x=>\"data0\", :y=>\"data1\"}, :data=>\"ccbe84da-ad90-4bee-b7d3-285b37d7f648\"}, @xrange=[\"I\", \"II\", \"III\"], @yrange=[0, 50.0]>], :options=>{:yrange=>[0, 100], :x_label=>\"Categories\", :y_label=>\"Percentage (%)\", :width=>700, :xrange=>[\"I\", \"II\", \"III\"]}}>], :data=>{\"ccbe84da-ad90-4bee-b7d3-285b37d7f648\"=>#<Nyaplot::DataFrame:0x007fb2cc973ed0 @name=\"ccbe84da-ad90-4bee-b7d3-285b37d7f648\", @rows=[{:data0=>\"I\", :data1=>25.0}, {:data0=>\"II\", :data1=>25.0}, {:data0=>\"III\", :data1=>50.0}]>}, :extension=>[]}>"
      ]
     },
     "metadata": {},
     "output_type": "display_data"
    }
   ],
   "source": [
    "bar_graph2_per.chart.x_label 'Categories'\n",
    "bar_graph2_per.chart.y_label 'Percentage (%)'\n",
    "bar_graph2_per.show_in_iruby"
   ]
  },
  {
   "cell_type": "markdown",
   "metadata": {},
   "source": [
    "#### 3. Fraction"
   ]
  },
  {
   "cell_type": "code",
   "execution_count": 14,
   "metadata": {
    "collapsed": false
   },
   "outputs": [
    {
     "data": {
      "text/plain": [
       "#<Daru::View::Plot:0x007fb2cd1f2598 @adapter=Daru::View::Adapter::NyaplotAdapter, @chart=#<Nyaplot::Plot:0x007fb2cd1f24f8 @properties={:diagrams=>[#<Nyaplot::Diagram:0x007fb2cd1f0630 @properties={:type=>:bar, :options=>{:x=>\"data0\", :y=>\"data1\"}, :data=>\"8df6373e-fdd1-4232-84f5-2aad579fc334\"}, @xrange=[\"I\", \"II\", \"III\"], @yrange=[0, 0.5]>], :options=>{:yrange=>[0, 1]}}>>"
      ]
     },
     "execution_count": 14,
     "metadata": {},
     "output_type": "execute_result"
    }
   ],
   "source": [
    "bar_graph2_frac = Daru::View::Plot.new(dv, type: :bar, method: :fraction)"
   ]
  },
  {
   "cell_type": "code",
   "execution_count": 15,
   "metadata": {
    "collapsed": false
   },
   "outputs": [
    {
     "data": {
      "text/html": [
       "<div id='vis-f1af18ad-2e10-4cd4-a3ca-93ffad58f227'></div>\n",
       "<script>\n",
       "(function(){\n",
       "    var render = function(){\n",
       "        var model = {\"panes\":[{\"diagrams\":[{\"type\":\"bar\",\"options\":{\"x\":\"data0\",\"y\":\"data1\"},\"data\":\"8df6373e-fdd1-4232-84f5-2aad579fc334\"}],\"options\":{\"yrange\":[0,1],\"y_label\":\"Fraction\",\"width\":700,\"xrange\":[\"I\",\"II\",\"III\"]}}],\"data\":{\"8df6373e-fdd1-4232-84f5-2aad579fc334\":[{\"data0\":\"I\",\"data1\":0.25},{\"data0\":\"II\",\"data1\":0.25},{\"data0\":\"III\",\"data1\":0.5}]},\"extension\":[]}\n",
       "        var id_name = '#vis-f1af18ad-2e10-4cd4-a3ca-93ffad58f227';\n",
       "        Nyaplot.core.parse(model, id_name);\n",
       "\n",
       "        require(['downloadable'], function(downloadable){\n",
       "          var svg = d3.select(id_name).select(\"svg\");\n",
       "\t  if(!svg.empty())\n",
       "\t    svg.call(downloadable().filename('fig'));\n",
       "\t});\n",
       "    };\n",
       "    if(window['Nyaplot']==undefined){\n",
       "        window.addEventListener('load_nyaplot', render, false);\n",
       "\treturn;\n",
       "    } else {\n",
       "       render();\n",
       "    }\n",
       "})();\n",
       "</script>\n"
      ],
      "text/plain": [
       "#<Nyaplot::Frame:0x007fb2cd2ba390 @properties={:panes=>[#<Nyaplot::Plot:0x007fb2cd1f24f8 @properties={:diagrams=>[#<Nyaplot::Diagram:0x007fb2cd1f0630 @properties={:type=>:bar, :options=>{:x=>\"data0\", :y=>\"data1\"}, :data=>\"8df6373e-fdd1-4232-84f5-2aad579fc334\"}, @xrange=[\"I\", \"II\", \"III\"], @yrange=[0, 0.5]>], :options=>{:yrange=>[0, 1], :y_label=>\"Fraction\", :width=>700, :xrange=>[\"I\", \"II\", \"III\"]}}>], :data=>{\"8df6373e-fdd1-4232-84f5-2aad579fc334\"=>#<Nyaplot::DataFrame:0x007fb2cd1f12b0 @name=\"8df6373e-fdd1-4232-84f5-2aad579fc334\", @rows=[{:data0=>\"I\", :data1=>0.25}, {:data0=>\"II\", :data1=>0.25}, {:data0=>\"III\", :data1=>0.5}]>}, :extension=>[]}>"
      ]
     },
     "metadata": {},
     "output_type": "display_data"
    }
   ],
   "source": [
    "# bar_graph2_frac.chart.x_label 'Categories'\n",
    "bar_graph2_frac.chart.y_label 'Fraction'\n",
    "bar_graph2_frac.show_in_iruby"
   ]
  },
  {
   "cell_type": "markdown",
   "metadata": {},
   "source": [
    "# Categorical data visualization in Dataframe\n",
    "### Bar Graph"
   ]
  },
  {
   "cell_type": "code",
   "execution_count": 16,
   "metadata": {
    "collapsed": false
   },
   "outputs": [
    {
     "data": {
      "text/plain": [
       ":category"
      ]
     },
     "execution_count": 16,
     "metadata": {},
     "output_type": "execute_result"
    }
   ],
   "source": [
    "df = Daru::DataFrame.new({\n",
    "  a: [1, 2, 4, -2, 5, 23, 0],\n",
    "  b: [3, 1, 3, -6, 2, 1, 0],\n",
    "  c: ['I', 'II', 'I', 'III', 'I', 'III', 'II']\n",
    "  })\n",
    "df.to_category :c\n",
    "df[:c].type"
   ]
  },
  {
   "cell_type": "code",
   "execution_count": 17,
   "metadata": {
    "collapsed": false
   },
   "outputs": [
    {
     "data": {
      "text/plain": [
       "#<Daru::View::Plot:0x007fb2cc9387b8 @adapter=Daru::View::Adapter::NyaplotAdapter, @chart=#<Nyaplot::Plot:0x007fb2cc938650 @properties={:diagrams=>[#<Nyaplot::Diagram:0x007fb2cc923b10 @properties={:type=>:bar, :options=>{:value=>:c}, :data=>\"3be85fac-17f7-48c4-aff7-13f61385b9b4\"}, @xrange=[\"I\", \"II\", \"III\"], @yrange=[0, 7]>], :options=>{}}>>"
      ]
     },
     "execution_count": 17,
     "metadata": {},
     "output_type": "execute_result"
    }
   ],
   "source": [
    "bar_graph3 = Daru::View::Plot.new(df, type: :bar, x: :c)"
   ]
  },
  {
   "cell_type": "code",
   "execution_count": 18,
   "metadata": {
    "collapsed": false
   },
   "outputs": [
    {
     "data": {
      "text/html": [
       "<div id='vis-9cd99713-8eae-485c-b22d-10139f7402b3'></div>\n",
       "<script>\n",
       "(function(){\n",
       "    var render = function(){\n",
       "        var model = {\"panes\":[{\"diagrams\":[{\"type\":\"bar\",\"options\":{\"value\":\"c\"},\"data\":\"3be85fac-17f7-48c4-aff7-13f61385b9b4\"}],\"options\":{\"width\":700,\"xrange\":[\"I\",\"II\",\"III\"],\"yrange\":[0,7]}}],\"data\":{\"3be85fac-17f7-48c4-aff7-13f61385b9b4\":[{\"a\":1,\"b\":3,\"c\":\"I\"},{\"a\":2,\"b\":1,\"c\":\"II\"},{\"a\":4,\"b\":3,\"c\":\"I\"},{\"a\":-2,\"b\":-6,\"c\":\"III\"},{\"a\":5,\"b\":2,\"c\":\"I\"},{\"a\":23,\"b\":1,\"c\":\"III\"},{\"a\":0,\"b\":0,\"c\":\"II\"}]},\"extension\":[]}\n",
       "        var id_name = '#vis-9cd99713-8eae-485c-b22d-10139f7402b3';\n",
       "        Nyaplot.core.parse(model, id_name);\n",
       "\n",
       "        require(['downloadable'], function(downloadable){\n",
       "          var svg = d3.select(id_name).select(\"svg\");\n",
       "\t  if(!svg.empty())\n",
       "\t    svg.call(downloadable().filename('fig'));\n",
       "\t});\n",
       "    };\n",
       "    if(window['Nyaplot']==undefined){\n",
       "        window.addEventListener('load_nyaplot', render, false);\n",
       "\treturn;\n",
       "    } else {\n",
       "       render();\n",
       "    }\n",
       "})();\n",
       "</script>\n"
      ],
      "text/plain": [
       "#<Nyaplot::Frame:0x007fb2cc1a32a0 @properties={:panes=>[#<Nyaplot::Plot:0x007fb2cc938650 @properties={:diagrams=>[#<Nyaplot::Diagram:0x007fb2cc923b10 @properties={:type=>:bar, :options=>{:value=>:c}, :data=>\"3be85fac-17f7-48c4-aff7-13f61385b9b4\"}, @xrange=[\"I\", \"II\", \"III\"], @yrange=[0, 7]>], :options=>{:width=>700, :xrange=>[\"I\", \"II\", \"III\"], :yrange=>[0, 7]}}>], :data=>{\"3be85fac-17f7-48c4-aff7-13f61385b9b4\"=>#<Nyaplot::DataFrame:0x007fb2cc928430 @name=\"3be85fac-17f7-48c4-aff7-13f61385b9b4\", @rows=[{:a=>1, :b=>3, :c=>\"I\"}, {:a=>2, :b=>1, :c=>\"II\"}, {:a=>4, :b=>3, :c=>\"I\"}, {:a=>-2, :b=>-6, :c=>\"III\"}, {:a=>5, :b=>2, :c=>\"I\"}, {:a=>23, :b=>1, :c=>\"III\"}, {:a=>0, :b=>0, :c=>\"II\"}]>}, :extension=>[]}>"
      ]
     },
     "metadata": {},
     "output_type": "display_data"
    }
   ],
   "source": [
    "bar_graph3.show_in_iruby"
   ]
  },
  {
   "cell_type": "markdown",
   "metadata": {},
   "source": [
    "### Scatter plot categorized by categorical variable¶\n",
    "#### Plots can be categorized by\n",
    "\n",
    "- Color\n",
    "- Size\n",
    "- Shape"
   ]
  },
  {
   "cell_type": "code",
   "execution_count": 19,
   "metadata": {
    "collapsed": false
   },
   "outputs": [
    {
     "data": {
      "text/plain": [
       ":category"
      ]
     },
     "execution_count": 19,
     "metadata": {},
     "output_type": "execute_result"
    }
   ],
   "source": [
    "df = Daru::DataFrame.new({\n",
    "  a: [1, 2, 4, -2, 5, 23, 0],\n",
    "  b: [3, 1, 3, -6, 2, 1, 0],\n",
    "  c: ['I', 'II', 'I', 'III', 'I', 'III', 'II']\n",
    "  })\n",
    "df.to_category :c\n",
    "df[:c].type"
   ]
  },
  {
   "cell_type": "code",
   "execution_count": 20,
   "metadata": {
    "collapsed": false
   },
   "outputs": [
    {
     "data": {
      "text/plain": [
       "#<Daru::View::Plot:0x007fb2cd8499c8 @adapter=Daru::View::Adapter::NyaplotAdapter, @chart=#<Nyaplot::Plot:0x007fb2cd849978 @properties={:diagrams=>[#<Nyaplot::Diagram:0x007fb2cc8792f0 @properties={:type=>:scatter, :options=>{:x=>:a, :y=>:b, :title=>\"I\", :color=>\"rgb(166,206,227)\", :tooltip_contents=>[\"I\", \"I\", \"I\"]}, :data=>\"bc150eb5-c9ae-4b37-ad52-6d633415a76d\"}, @xrange=[1, 5], @yrange=[2, 3]>, #<Nyaplot::Diagram:0x007fb2cc842b38 @properties={:type=>:scatter, :options=>{:x=>:a, :y=>:b, :title=>\"II\", :color=>\"rgb(31,120,180)\", :tooltip_contents=>[\"II\", \"II\"]}, :data=>\"3f002967-c3d7-4f14-9aa7-70b884f0a65e\"}, @xrange=[0, 2], @yrange=[0, 1]>, #<Nyaplot::Diagram:0x007fb2cd0d2488 @properties={:type=>:scatter, :options=>{:x=>:a, :y=>:b, :title=>\"III\", :color=>\"rgb(178,223,138)\", :tooltip_contents=>[\"III\", \"III\"]}, :data=>\"44bf9e88-ac4d-48fd-8d8c-1dde044153d6\"}, @xrange=[-2, 23], @yrange=[-6, 1]>], :options=>{:legend=>true}}>>"
      ]
     },
     "execution_count": 20,
     "metadata": {},
     "output_type": "execute_result"
    }
   ],
   "source": [
    "scatter_1 = Daru::View::Plot.new(df, type: :scatter, x: :a, y: :b, categorized: {by: :c, method: :color})"
   ]
  },
  {
   "cell_type": "code",
   "execution_count": 21,
   "metadata": {
    "collapsed": false,
    "scrolled": true
   },
   "outputs": [
    {
     "data": {
      "text/html": [
       "<div id='vis-fe219069-e8d0-4f49-8dcf-e89e65802740'></div>\n",
       "<script>\n",
       "(function(){\n",
       "    var render = function(){\n",
       "        var model = {\"panes\":[{\"diagrams\":[{\"type\":\"scatter\",\"options\":{\"x\":\"a\",\"y\":\"b\",\"title\":\"I\",\"color\":\"rgb(166,206,227)\",\"tooltip_contents\":[\"I\",\"I\",\"I\"]},\"data\":\"bc150eb5-c9ae-4b37-ad52-6d633415a76d\"},{\"type\":\"scatter\",\"options\":{\"x\":\"a\",\"y\":\"b\",\"title\":\"II\",\"color\":\"rgb(31,120,180)\",\"tooltip_contents\":[\"II\",\"II\"]},\"data\":\"3f002967-c3d7-4f14-9aa7-70b884f0a65e\"},{\"type\":\"scatter\",\"options\":{\"x\":\"a\",\"y\":\"b\",\"title\":\"III\",\"color\":\"rgb(178,223,138)\",\"tooltip_contents\":[\"III\",\"III\"]},\"data\":\"44bf9e88-ac4d-48fd-8d8c-1dde044153d6\"}],\"options\":{\"legend\":true,\"zoom\":true,\"width\":800,\"xrange\":[-2,23],\"yrange\":[-6,3]}}],\"data\":{\"bc150eb5-c9ae-4b37-ad52-6d633415a76d\":[{\"a\":1,\"b\":3},{\"a\":4,\"b\":3},{\"a\":5,\"b\":2}],\"3f002967-c3d7-4f14-9aa7-70b884f0a65e\":[{\"a\":2,\"b\":1},{\"a\":0,\"b\":0}],\"44bf9e88-ac4d-48fd-8d8c-1dde044153d6\":[{\"a\":-2,\"b\":-6},{\"a\":23,\"b\":1}]},\"extension\":[]}\n",
       "        var id_name = '#vis-fe219069-e8d0-4f49-8dcf-e89e65802740';\n",
       "        Nyaplot.core.parse(model, id_name);\n",
       "\n",
       "        require(['downloadable'], function(downloadable){\n",
       "          var svg = d3.select(id_name).select(\"svg\");\n",
       "\t  if(!svg.empty())\n",
       "\t    svg.call(downloadable().filename('fig'));\n",
       "\t});\n",
       "    };\n",
       "    if(window['Nyaplot']==undefined){\n",
       "        window.addEventListener('load_nyaplot', render, false);\n",
       "\treturn;\n",
       "    } else {\n",
       "       render();\n",
       "    }\n",
       "})();\n",
       "</script>\n"
      ],
      "text/plain": [
       "#<Nyaplot::Frame:0x007fb2cdb93a70 @properties={:panes=>[#<Nyaplot::Plot:0x007fb2cd849978 @properties={:diagrams=>[#<Nyaplot::Diagram:0x007fb2cc8792f0 @properties={:type=>:scatter, :options=>{:x=>:a, :y=>:b, :title=>\"I\", :color=>\"rgb(166,206,227)\", :tooltip_contents=>[\"I\", \"I\", \"I\"]}, :data=>\"bc150eb5-c9ae-4b37-ad52-6d633415a76d\"}, @xrange=[1, 5], @yrange=[2, 3]>, #<Nyaplot::Diagram:0x007fb2cc842b38 @properties={:type=>:scatter, :options=>{:x=>:a, :y=>:b, :title=>\"II\", :color=>\"rgb(31,120,180)\", :tooltip_contents=>[\"II\", \"II\"]}, :data=>\"3f002967-c3d7-4f14-9aa7-70b884f0a65e\"}, @xrange=[0, 2], @yrange=[0, 1]>, #<Nyaplot::Diagram:0x007fb2cd0d2488 @properties={:type=>:scatter, :options=>{:x=>:a, :y=>:b, :title=>\"III\", :color=>\"rgb(178,223,138)\", :tooltip_contents=>[\"III\", \"III\"]}, :data=>\"44bf9e88-ac4d-48fd-8d8c-1dde044153d6\"}, @xrange=[-2, 23], @yrange=[-6, 1]>], :options=>{:legend=>true, :zoom=>true, :width=>800, :xrange=>[-2, 23], :yrange=>[-6, 3]}}>], :data=>{\"bc150eb5-c9ae-4b37-ad52-6d633415a76d\"=>#<Nyaplot::DataFrame:0x007fb2cc87b460 @name=\"bc150eb5-c9ae-4b37-ad52-6d633415a76d\", @rows=[{:a=>1, :b=>3}, {:a=>4, :b=>3}, {:a=>5, :b=>2}]>, \"3f002967-c3d7-4f14-9aa7-70b884f0a65e\"=>#<Nyaplot::DataFrame:0x007fb2cc8438d0 @name=\"3f002967-c3d7-4f14-9aa7-70b884f0a65e\", @rows=[{:a=>2, :b=>1}, {:a=>0, :b=>0}]>, \"44bf9e88-ac4d-48fd-8d8c-1dde044153d6\"=>#<Nyaplot::DataFrame:0x007fb2cd0d31f8 @name=\"44bf9e88-ac4d-48fd-8d8c-1dde044153d6\", @rows=[{:a=>-2, :b=>-6}, {:a=>23, :b=>1}]>}, :extension=>[]}>"
      ]
     },
     "metadata": {},
     "output_type": "display_data"
    }
   ],
   "source": [
    "scatter_1.show_in_iruby"
   ]
  },
  {
   "cell_type": "code",
   "execution_count": 22,
   "metadata": {
    "collapsed": false
   },
   "outputs": [
    {
     "data": {
      "text/html": [
       "<div id='vis-cb2169e7-203e-42c4-a410-b3883687c930'></div>\n",
       "<script>\n",
       "(function(){\n",
       "    var render = function(){\n",
       "        var model = {\"panes\":[{\"diagrams\":[{\"type\":\"scatter\",\"options\":{\"x\":\"a\",\"y\":\"b\",\"title\":\"I\",\"color\":\"rgb(166,206,227)\",\"tooltip_contents\":[\"I\",\"I\",\"I\"]},\"data\":\"bc150eb5-c9ae-4b37-ad52-6d633415a76d\"},{\"type\":\"scatter\",\"options\":{\"x\":\"a\",\"y\":\"b\",\"title\":\"II\",\"color\":\"rgb(31,120,180)\",\"tooltip_contents\":[\"II\",\"II\"]},\"data\":\"3f002967-c3d7-4f14-9aa7-70b884f0a65e\"},{\"type\":\"scatter\",\"options\":{\"x\":\"a\",\"y\":\"b\",\"title\":\"III\",\"color\":\"rgb(178,223,138)\",\"tooltip_contents\":[\"III\",\"III\"]},\"data\":\"44bf9e88-ac4d-48fd-8d8c-1dde044153d6\"}],\"options\":{\"legend\":true,\"zoom\":true,\"width\":800,\"xrange\":[-10,10],\"yrange\":[-10,10]}}],\"data\":{\"bc150eb5-c9ae-4b37-ad52-6d633415a76d\":[{\"a\":1,\"b\":3},{\"a\":4,\"b\":3},{\"a\":5,\"b\":2}],\"3f002967-c3d7-4f14-9aa7-70b884f0a65e\":[{\"a\":2,\"b\":1},{\"a\":0,\"b\":0}],\"44bf9e88-ac4d-48fd-8d8c-1dde044153d6\":[{\"a\":-2,\"b\":-6},{\"a\":23,\"b\":1}]},\"extension\":[]}\n",
       "        var id_name = '#vis-cb2169e7-203e-42c4-a410-b3883687c930';\n",
       "        Nyaplot.core.parse(model, id_name);\n",
       "\n",
       "        require(['downloadable'], function(downloadable){\n",
       "          var svg = d3.select(id_name).select(\"svg\");\n",
       "\t  if(!svg.empty())\n",
       "\t    svg.call(downloadable().filename('fig'));\n",
       "\t});\n",
       "    };\n",
       "    if(window['Nyaplot']==undefined){\n",
       "        window.addEventListener('load_nyaplot', render, false);\n",
       "\treturn;\n",
       "    } else {\n",
       "       render();\n",
       "    }\n",
       "})();\n",
       "</script>\n"
      ],
      "text/plain": [
       "#<Nyaplot::Plot:0x007fb2cd849978 @properties={:diagrams=>[#<Nyaplot::Diagram:0x007fb2cc8792f0 @properties={:type=>:scatter, :options=>{:x=>:a, :y=>:b, :title=>\"I\", :color=>\"rgb(166,206,227)\", :tooltip_contents=>[\"I\", \"I\", \"I\"]}, :data=>\"bc150eb5-c9ae-4b37-ad52-6d633415a76d\"}, @xrange=[1, 5], @yrange=[2, 3]>, #<Nyaplot::Diagram:0x007fb2cc842b38 @properties={:type=>:scatter, :options=>{:x=>:a, :y=>:b, :title=>\"II\", :color=>\"rgb(31,120,180)\", :tooltip_contents=>[\"II\", \"II\"]}, :data=>\"3f002967-c3d7-4f14-9aa7-70b884f0a65e\"}, @xrange=[0, 2], @yrange=[0, 1]>, #<Nyaplot::Diagram:0x007fb2cd0d2488 @properties={:type=>:scatter, :options=>{:x=>:a, :y=>:b, :title=>\"III\", :color=>\"rgb(178,223,138)\", :tooltip_contents=>[\"III\", \"III\"]}, :data=>\"44bf9e88-ac4d-48fd-8d8c-1dde044153d6\"}, @xrange=[-2, 23], @yrange=[-6, 1]>], :options=>{:legend=>true, :zoom=>true, :width=>800, :xrange=>[-10, 10], :yrange=>[-10, 10]}}>"
      ]
     },
     "execution_count": 22,
     "metadata": {},
     "output_type": "execute_result"
    }
   ],
   "source": [
    "scatter_1.chart.xrange [-10, 10]\n",
    "scatter_1.chart.yrange [-10, 10]"
   ]
  },
  {
   "cell_type": "code",
   "execution_count": 23,
   "metadata": {
    "collapsed": false
   },
   "outputs": [
    {
     "data": {
      "text/html": [
       "<div id='vis-0ee17c25-7919-44ee-a7b7-92e941c1be8b'></div>\n",
       "<script>\n",
       "(function(){\n",
       "    var render = function(){\n",
       "        var model = {\"panes\":[{\"diagrams\":[{\"type\":\"scatter\",\"options\":{\"x\":\"a\",\"y\":\"b\",\"title\":\"I\",\"shape\":\"circle\",\"tooltip_contents\":[\"I\",\"I\",\"I\"]},\"data\":\"1351c061-a258-4944-83f2-45642b880489\"},{\"type\":\"scatter\",\"options\":{\"x\":\"a\",\"y\":\"b\",\"title\":\"II\",\"shape\":\"triangle-up\",\"tooltip_contents\":[\"II\",\"II\"]},\"data\":\"7390dc34-9f39-47f5-a78b-a05d293dcb61\"},{\"type\":\"scatter\",\"options\":{\"x\":\"a\",\"y\":\"b\",\"title\":\"III\",\"shape\":\"diamond\",\"tooltip_contents\":[\"III\",\"III\"]},\"data\":\"ea689d88-2318-49c0-a7ad-25ad25fe8b26\"}],\"options\":{\"legend\":true,\"zoom\":true,\"width\":800,\"xrange\":[-2,23],\"yrange\":[-6,3]}}],\"data\":{\"1351c061-a258-4944-83f2-45642b880489\":[{\"a\":1,\"b\":3},{\"a\":4,\"b\":3},{\"a\":5,\"b\":2}],\"7390dc34-9f39-47f5-a78b-a05d293dcb61\":[{\"a\":2,\"b\":1},{\"a\":0,\"b\":0}],\"ea689d88-2318-49c0-a7ad-25ad25fe8b26\":[{\"a\":-2,\"b\":-6},{\"a\":23,\"b\":1}]},\"extension\":[]}\n",
       "        var id_name = '#vis-0ee17c25-7919-44ee-a7b7-92e941c1be8b';\n",
       "        Nyaplot.core.parse(model, id_name);\n",
       "\n",
       "        require(['downloadable'], function(downloadable){\n",
       "          var svg = d3.select(id_name).select(\"svg\");\n",
       "\t  if(!svg.empty())\n",
       "\t    svg.call(downloadable().filename('fig'));\n",
       "\t});\n",
       "    };\n",
       "    if(window['Nyaplot']==undefined){\n",
       "        window.addEventListener('load_nyaplot', render, false);\n",
       "\treturn;\n",
       "    } else {\n",
       "       render();\n",
       "    }\n",
       "})();\n",
       "</script>\n"
      ],
      "text/plain": [
       "#<Nyaplot::Frame:0x007fb2cdaaa398 @properties={:panes=>[#<Nyaplot::Plot:0x007fb2cdad0340 @properties={:diagrams=>[#<Nyaplot::Diagram:0x007fb2cdac2538 @properties={:type=>:scatter, :options=>{:x=>:a, :y=>:b, :title=>\"I\", :shape=>\"circle\", :tooltip_contents=>[\"I\", \"I\", \"I\"]}, :data=>\"1351c061-a258-4944-83f2-45642b880489\"}, @xrange=[1, 5], @yrange=[2, 3]>, #<Nyaplot::Diagram:0x007fb2cdab87e0 @properties={:type=>:scatter, :options=>{:x=>:a, :y=>:b, :title=>\"II\", :shape=>\"triangle-up\", :tooltip_contents=>[\"II\", \"II\"]}, :data=>\"7390dc34-9f39-47f5-a78b-a05d293dcb61\"}, @xrange=[0, 2], @yrange=[0, 1]>, #<Nyaplot::Diagram:0x007fb2cdaab4c8 @properties={:type=>:scatter, :options=>{:x=>:a, :y=>:b, :title=>\"III\", :shape=>\"diamond\", :tooltip_contents=>[\"III\", \"III\"]}, :data=>\"ea689d88-2318-49c0-a7ad-25ad25fe8b26\"}, @xrange=[-2, 23], @yrange=[-6, 1]>], :options=>{:legend=>true, :zoom=>true, :width=>800, :xrange=>[-2, 23], :yrange=>[-6, 3]}}>], :data=>{\"1351c061-a258-4944-83f2-45642b880489\"=>#<Nyaplot::DataFrame:0x007fb2cdac29c0 @name=\"1351c061-a258-4944-83f2-45642b880489\", @rows=[{:a=>1, :b=>3}, {:a=>4, :b=>3}, {:a=>5, :b=>2}]>, \"7390dc34-9f39-47f5-a78b-a05d293dcb61\"=>#<Nyaplot::DataFrame:0x007fb2cdab8bf0 @name=\"7390dc34-9f39-47f5-a78b-a05d293dcb61\", @rows=[{:a=>2, :b=>1}, {:a=>0, :b=>0}]>, \"ea689d88-2318-49c0-a7ad-25ad25fe8b26\"=>#<Nyaplot::DataFrame:0x007fb2cdaab928 @name=\"ea689d88-2318-49c0-a7ad-25ad25fe8b26\", @rows=[{:a=>-2, :b=>-6}, {:a=>23, :b=>1}]>}, :extension=>[]}>"
      ]
     },
     "metadata": {},
     "output_type": "display_data"
    }
   ],
   "source": [
    "scatter_2 = Daru::View::Plot.new(df, type: :scatter, x: :a, y: :b, categorized: {by: :c, method: :shape})\n",
    "scatter_2.show_in_iruby"
   ]
  },
  {
   "cell_type": "code",
   "execution_count": 24,
   "metadata": {
    "collapsed": false
   },
   "outputs": [
    {
     "data": {
      "text/html": [
       "<div id='vis-ad8d8062-7620-4b01-936f-48bd90624282'></div>\n",
       "<script>\n",
       "(function(){\n",
       "    var render = function(){\n",
       "        var model = {\"panes\":[{\"diagrams\":[{\"type\":\"scatter\",\"options\":{\"x\":\"a\",\"y\":\"b\",\"title\":\"I\",\"shape\":\"circle\",\"tooltip_contents\":[\"I\",\"I\",\"I\"]},\"data\":\"1351c061-a258-4944-83f2-45642b880489\"},{\"type\":\"scatter\",\"options\":{\"x\":\"a\",\"y\":\"b\",\"title\":\"II\",\"shape\":\"triangle-up\",\"tooltip_contents\":[\"II\",\"II\"]},\"data\":\"7390dc34-9f39-47f5-a78b-a05d293dcb61\"},{\"type\":\"scatter\",\"options\":{\"x\":\"a\",\"y\":\"b\",\"title\":\"III\",\"shape\":\"diamond\",\"tooltip_contents\":[\"III\",\"III\"]},\"data\":\"ea689d88-2318-49c0-a7ad-25ad25fe8b26\"}],\"options\":{\"legend\":true,\"zoom\":true,\"width\":800,\"xrange\":[-10,10],\"yrange\":[-10,10]}}],\"data\":{\"1351c061-a258-4944-83f2-45642b880489\":[{\"a\":1,\"b\":3},{\"a\":4,\"b\":3},{\"a\":5,\"b\":2}],\"7390dc34-9f39-47f5-a78b-a05d293dcb61\":[{\"a\":2,\"b\":1},{\"a\":0,\"b\":0}],\"ea689d88-2318-49c0-a7ad-25ad25fe8b26\":[{\"a\":-2,\"b\":-6},{\"a\":23,\"b\":1}]},\"extension\":[]}\n",
       "        var id_name = '#vis-ad8d8062-7620-4b01-936f-48bd90624282';\n",
       "        Nyaplot.core.parse(model, id_name);\n",
       "\n",
       "        require(['downloadable'], function(downloadable){\n",
       "          var svg = d3.select(id_name).select(\"svg\");\n",
       "\t  if(!svg.empty())\n",
       "\t    svg.call(downloadable().filename('fig'));\n",
       "\t});\n",
       "    };\n",
       "    if(window['Nyaplot']==undefined){\n",
       "        window.addEventListener('load_nyaplot', render, false);\n",
       "\treturn;\n",
       "    } else {\n",
       "       render();\n",
       "    }\n",
       "})();\n",
       "</script>\n"
      ],
      "text/plain": [
       "#<Nyaplot::Plot:0x007fb2cdad0340 @properties={:diagrams=>[#<Nyaplot::Diagram:0x007fb2cdac2538 @properties={:type=>:scatter, :options=>{:x=>:a, :y=>:b, :title=>\"I\", :shape=>\"circle\", :tooltip_contents=>[\"I\", \"I\", \"I\"]}, :data=>\"1351c061-a258-4944-83f2-45642b880489\"}, @xrange=[1, 5], @yrange=[2, 3]>, #<Nyaplot::Diagram:0x007fb2cdab87e0 @properties={:type=>:scatter, :options=>{:x=>:a, :y=>:b, :title=>\"II\", :shape=>\"triangle-up\", :tooltip_contents=>[\"II\", \"II\"]}, :data=>\"7390dc34-9f39-47f5-a78b-a05d293dcb61\"}, @xrange=[0, 2], @yrange=[0, 1]>, #<Nyaplot::Diagram:0x007fb2cdaab4c8 @properties={:type=>:scatter, :options=>{:x=>:a, :y=>:b, :title=>\"III\", :shape=>\"diamond\", :tooltip_contents=>[\"III\", \"III\"]}, :data=>\"ea689d88-2318-49c0-a7ad-25ad25fe8b26\"}, @xrange=[-2, 23], @yrange=[-6, 1]>], :options=>{:legend=>true, :zoom=>true, :width=>800, :xrange=>[-10, 10], :yrange=>[-10, 10]}}>"
      ]
     },
     "execution_count": 24,
     "metadata": {},
     "output_type": "execute_result"
    }
   ],
   "source": [
    "scatter_2.chart.xrange [-10, 10]\n",
    "scatter_2.chart.yrange [-10, 10]"
   ]
  },
  {
   "cell_type": "code",
   "execution_count": 25,
   "metadata": {
    "collapsed": false
   },
   "outputs": [
    {
     "data": {
      "text/html": [
       "<div id='vis-47afcce8-9ea4-4cc0-af55-1f72cb57dbbf'></div>\n",
       "<script>\n",
       "(function(){\n",
       "    var render = function(){\n",
       "        var model = {\"panes\":[{\"diagrams\":[{\"type\":\"scatter\",\"options\":{\"x\":\"a\",\"y\":\"b\",\"title\":\"I\",\"color\":\"red\",\"tooltip_contents\":[\"I\",\"I\",\"I\"]},\"data\":\"fe17e0d5-09dc-4c97-87f6-1deefb77e92f\"},{\"type\":\"scatter\",\"options\":{\"x\":\"a\",\"y\":\"b\",\"title\":\"II\",\"color\":\"blue\",\"tooltip_contents\":[\"II\",\"II\"]},\"data\":\"e019cb8d-3270-4683-b653-95d900ae1e45\"},{\"type\":\"scatter\",\"options\":{\"x\":\"a\",\"y\":\"b\",\"title\":\"III\",\"color\":\"green\",\"tooltip_contents\":[\"III\",\"III\"]},\"data\":\"46d24166-97d8-4630-b5e4-c1171d665814\"}],\"options\":{\"legend\":true,\"zoom\":true,\"width\":800,\"xrange\":[-2,23],\"yrange\":[-6,3]}}],\"data\":{\"fe17e0d5-09dc-4c97-87f6-1deefb77e92f\":[{\"a\":1,\"b\":3},{\"a\":4,\"b\":3},{\"a\":5,\"b\":2}],\"e019cb8d-3270-4683-b653-95d900ae1e45\":[{\"a\":2,\"b\":1},{\"a\":0,\"b\":0}],\"46d24166-97d8-4630-b5e4-c1171d665814\":[{\"a\":-2,\"b\":-6},{\"a\":23,\"b\":1}]},\"extension\":[]}\n",
       "        var id_name = '#vis-47afcce8-9ea4-4cc0-af55-1f72cb57dbbf';\n",
       "        Nyaplot.core.parse(model, id_name);\n",
       "\n",
       "        require(['downloadable'], function(downloadable){\n",
       "          var svg = d3.select(id_name).select(\"svg\");\n",
       "\t  if(!svg.empty())\n",
       "\t    svg.call(downloadable().filename('fig'));\n",
       "\t});\n",
       "    };\n",
       "    if(window['Nyaplot']==undefined){\n",
       "        window.addEventListener('load_nyaplot', render, false);\n",
       "\treturn;\n",
       "    } else {\n",
       "       render();\n",
       "    }\n",
       "})();\n",
       "</script>\n"
      ],
      "text/plain": [
       "#<Nyaplot::Frame:0x007fb2cd4a23d8 @properties={:panes=>[#<Nyaplot::Plot:0x007fb2cd4ca8d8 @properties={:diagrams=>[#<Nyaplot::Diagram:0x007fb2cd4bb888 @properties={:type=>:scatter, :options=>{:x=>:a, :y=>:b, :title=>\"I\", :color=>:red, :tooltip_contents=>[\"I\", \"I\", \"I\"]}, :data=>\"fe17e0d5-09dc-4c97-87f6-1deefb77e92f\"}, @xrange=[1, 5], @yrange=[2, 3]>, #<Nyaplot::Diagram:0x007fb2cd4b0e88 @properties={:type=>:scatter, :options=>{:x=>:a, :y=>:b, :title=>\"II\", :color=>:blue, :tooltip_contents=>[\"II\", \"II\"]}, :data=>\"e019cb8d-3270-4683-b653-95d900ae1e45\"}, @xrange=[0, 2], @yrange=[0, 1]>, #<Nyaplot::Diagram:0x007fb2cd4a33c8 @properties={:type=>:scatter, :options=>{:x=>:a, :y=>:b, :title=>\"III\", :color=>:green, :tooltip_contents=>[\"III\", \"III\"]}, :data=>\"46d24166-97d8-4630-b5e4-c1171d665814\"}, @xrange=[-2, 23], @yrange=[-6, 1]>], :options=>{:legend=>true, :zoom=>true, :width=>800, :xrange=>[-2, 23], :yrange=>[-6, 3]}}>], :data=>{\"fe17e0d5-09dc-4c97-87f6-1deefb77e92f\"=>#<Nyaplot::DataFrame:0x007fb2cd4bbce8 @name=\"fe17e0d5-09dc-4c97-87f6-1deefb77e92f\", @rows=[{:a=>1, :b=>3}, {:a=>4, :b=>3}, {:a=>5, :b=>2}]>, \"e019cb8d-3270-4683-b653-95d900ae1e45\"=>#<Nyaplot::DataFrame:0x007fb2cd4b1400 @name=\"e019cb8d-3270-4683-b653-95d900ae1e45\", @rows=[{:a=>2, :b=>1}, {:a=>0, :b=>0}]>, \"46d24166-97d8-4630-b5e4-c1171d665814\"=>#<Nyaplot::DataFrame:0x007fb2cd4a37d8 @name=\"46d24166-97d8-4630-b5e4-c1171d665814\", @rows=[{:a=>-2, :b=>-6}, {:a=>23, :b=>1}]>}, :extension=>[]}>"
      ]
     },
     "metadata": {},
     "output_type": "display_data"
    },
    {
     "data": {
      "text/html": [
       "<div id='vis-0baaf246-a6ce-40e1-901a-6b315034f837'></div>\n",
       "<script>\n",
       "(function(){\n",
       "    var render = function(){\n",
       "        var model = {\"panes\":[{\"diagrams\":[{\"type\":\"scatter\",\"options\":{\"x\":\"a\",\"y\":\"b\",\"title\":\"I\",\"shape\":\"circle\",\"tooltip_contents\":[\"I\",\"I\",\"I\"]},\"data\":\"1351c061-a258-4944-83f2-45642b880489\"},{\"type\":\"scatter\",\"options\":{\"x\":\"a\",\"y\":\"b\",\"title\":\"II\",\"shape\":\"triangle-up\",\"tooltip_contents\":[\"II\",\"II\"]},\"data\":\"7390dc34-9f39-47f5-a78b-a05d293dcb61\"},{\"type\":\"scatter\",\"options\":{\"x\":\"a\",\"y\":\"b\",\"title\":\"III\",\"shape\":\"diamond\",\"tooltip_contents\":[\"III\",\"III\"]},\"data\":\"ea689d88-2318-49c0-a7ad-25ad25fe8b26\"}],\"options\":{\"legend\":true,\"zoom\":true,\"width\":800,\"xrange\":[-10,10],\"yrange\":[-10,10]}}],\"data\":{\"1351c061-a258-4944-83f2-45642b880489\":[{\"a\":1,\"b\":3},{\"a\":4,\"b\":3},{\"a\":5,\"b\":2}],\"7390dc34-9f39-47f5-a78b-a05d293dcb61\":[{\"a\":2,\"b\":1},{\"a\":0,\"b\":0}],\"ea689d88-2318-49c0-a7ad-25ad25fe8b26\":[{\"a\":-2,\"b\":-6},{\"a\":23,\"b\":1}]},\"extension\":[]}\n",
       "        var id_name = '#vis-0baaf246-a6ce-40e1-901a-6b315034f837';\n",
       "        Nyaplot.core.parse(model, id_name);\n",
       "\n",
       "        require(['downloadable'], function(downloadable){\n",
       "          var svg = d3.select(id_name).select(\"svg\");\n",
       "\t  if(!svg.empty())\n",
       "\t    svg.call(downloadable().filename('fig'));\n",
       "\t});\n",
       "    };\n",
       "    if(window['Nyaplot']==undefined){\n",
       "        window.addEventListener('load_nyaplot', render, false);\n",
       "\treturn;\n",
       "    } else {\n",
       "       render();\n",
       "    }\n",
       "})();\n",
       "</script>\n"
      ],
      "text/plain": [
       "#<Nyaplot::Plot:0x007fb2cdad0340 @properties={:diagrams=>[#<Nyaplot::Diagram:0x007fb2cdac2538 @properties={:type=>:scatter, :options=>{:x=>:a, :y=>:b, :title=>\"I\", :shape=>\"circle\", :tooltip_contents=>[\"I\", \"I\", \"I\"]}, :data=>\"1351c061-a258-4944-83f2-45642b880489\"}, @xrange=[1, 5], @yrange=[2, 3]>, #<Nyaplot::Diagram:0x007fb2cdab87e0 @properties={:type=>:scatter, :options=>{:x=>:a, :y=>:b, :title=>\"II\", :shape=>\"triangle-up\", :tooltip_contents=>[\"II\", \"II\"]}, :data=>\"7390dc34-9f39-47f5-a78b-a05d293dcb61\"}, @xrange=[0, 2], @yrange=[0, 1]>, #<Nyaplot::Diagram:0x007fb2cdaab4c8 @properties={:type=>:scatter, :options=>{:x=>:a, :y=>:b, :title=>\"III\", :shape=>\"diamond\", :tooltip_contents=>[\"III\", \"III\"]}, :data=>\"ea689d88-2318-49c0-a7ad-25ad25fe8b26\"}, @xrange=[-2, 23], @yrange=[-6, 1]>], :options=>{:legend=>true, :zoom=>true, :width=>800, :xrange=>[-10, 10], :yrange=>[-10, 10]}}>"
      ]
     },
     "execution_count": 25,
     "metadata": {},
     "output_type": "execute_result"
    }
   ],
   "source": [
    "scatter_3 = Daru::View::Plot.new(df, type: :scatter, x: :a, y: :b, categorized: {by: :c, method: :color, color: [:red, :blue, :green]})\n",
    "scatter_3.show_in_iruby\n",
    "scatter_2.chart.xrange [-10, 10]\n",
    "scatter_2.chart.yrange [-10, 10]"
   ]
  },
  {
   "cell_type": "code",
   "execution_count": 26,
   "metadata": {
    "collapsed": false
   },
   "outputs": [
    {
     "data": {
      "text/html": [
       "<div id='vis-715ba291-8945-4d44-9cdd-821604c5cbc1'></div>\n",
       "<script>\n",
       "(function(){\n",
       "    var render = function(){\n",
       "        var model = {\"panes\":[{\"diagrams\":[{\"type\":\"scatter\",\"options\":{\"x\":\"a\",\"y\":\"b\",\"title\":\"I\",\"size\":300,\"tooltip_contents\":[\"I\",\"I\",\"I\"]},\"data\":\"fe647398-de0b-4343-ad4f-e6e8af06c14f\"},{\"type\":\"scatter\",\"options\":{\"x\":\"a\",\"y\":\"b\",\"title\":\"II\",\"size\":600,\"tooltip_contents\":[\"II\",\"II\"]},\"data\":\"1a9aea48-bb66-4f50-8a91-a8cc72efab92\"},{\"type\":\"scatter\",\"options\":{\"x\":\"a\",\"y\":\"b\",\"title\":\"III\",\"size\":900,\"tooltip_contents\":[\"III\",\"III\"]},\"data\":\"0a3580dc-ab4b-49ed-b0d8-52f20fe75d94\"}],\"options\":{\"legend\":true,\"zoom\":true,\"width\":800,\"xrange\":[-2,23],\"yrange\":[-6,3]}}],\"data\":{\"fe647398-de0b-4343-ad4f-e6e8af06c14f\":[{\"a\":1,\"b\":3},{\"a\":4,\"b\":3},{\"a\":5,\"b\":2}],\"1a9aea48-bb66-4f50-8a91-a8cc72efab92\":[{\"a\":2,\"b\":1},{\"a\":0,\"b\":0}],\"0a3580dc-ab4b-49ed-b0d8-52f20fe75d94\":[{\"a\":-2,\"b\":-6},{\"a\":23,\"b\":1}]},\"extension\":[]}\n",
       "        var id_name = '#vis-715ba291-8945-4d44-9cdd-821604c5cbc1';\n",
       "        Nyaplot.core.parse(model, id_name);\n",
       "\n",
       "        require(['downloadable'], function(downloadable){\n",
       "          var svg = d3.select(id_name).select(\"svg\");\n",
       "\t  if(!svg.empty())\n",
       "\t    svg.call(downloadable().filename('fig'));\n",
       "\t});\n",
       "    };\n",
       "    if(window['Nyaplot']==undefined){\n",
       "        window.addEventListener('load_nyaplot', render, false);\n",
       "\treturn;\n",
       "    } else {\n",
       "       render();\n",
       "    }\n",
       "})();\n",
       "</script>\n"
      ],
      "text/plain": [
       "#<Nyaplot::Frame:0x007fb2cda70800 @properties={:panes=>[#<Nyaplot::Plot:0x007fb2cd449300 @properties={:diagrams=>[#<Nyaplot::Diagram:0x007fb2cda8b128 @properties={:type=>:scatter, :options=>{:x=>:a, :y=>:b, :title=>\"I\", :size=>300, :tooltip_contents=>[\"I\", \"I\", \"I\"]}, :data=>\"fe647398-de0b-4343-ad4f-e6e8af06c14f\"}, @xrange=[1, 5], @yrange=[2, 3]>, #<Nyaplot::Diagram:0x007fb2cda7be80 @properties={:type=>:scatter, :options=>{:x=>:a, :y=>:b, :title=>\"II\", :size=>600, :tooltip_contents=>[\"II\", \"II\"]}, :data=>\"1a9aea48-bb66-4f50-8a91-a8cc72efab92\"}, @xrange=[0, 2], @yrange=[0, 1]>, #<Nyaplot::Diagram:0x007fb2cda71868 @properties={:type=>:scatter, :options=>{:x=>:a, :y=>:b, :title=>\"III\", :size=>900, :tooltip_contents=>[\"III\", \"III\"]}, :data=>\"0a3580dc-ab4b-49ed-b0d8-52f20fe75d94\"}, @xrange=[-2, 23], @yrange=[-6, 1]>], :options=>{:legend=>true, :zoom=>true, :width=>800, :xrange=>[-2, 23], :yrange=>[-6, 3]}}>], :data=>{\"fe647398-de0b-4343-ad4f-e6e8af06c14f\"=>#<Nyaplot::DataFrame:0x007fb2cda8b5d8 @name=\"fe647398-de0b-4343-ad4f-e6e8af06c14f\", @rows=[{:a=>1, :b=>3}, {:a=>4, :b=>3}, {:a=>5, :b=>2}]>, \"1a9aea48-bb66-4f50-8a91-a8cc72efab92\"=>#<Nyaplot::DataFrame:0x007fb2cda80188 @name=\"1a9aea48-bb66-4f50-8a91-a8cc72efab92\", @rows=[{:a=>2, :b=>1}, {:a=>0, :b=>0}]>, \"0a3580dc-ab4b-49ed-b0d8-52f20fe75d94\"=>#<Nyaplot::DataFrame:0x007fb2cda71c78 @name=\"0a3580dc-ab4b-49ed-b0d8-52f20fe75d94\", @rows=[{:a=>-2, :b=>-6}, {:a=>23, :b=>1}]>}, :extension=>[]}>"
      ]
     },
     "metadata": {},
     "output_type": "display_data"
    },
    {
     "data": {
      "text/html": [
       "<div id='vis-fd8060a8-40ab-49b6-8afc-6ee7559f5a0b'></div>\n",
       "<script>\n",
       "(function(){\n",
       "    var render = function(){\n",
       "        var model = {\"panes\":[{\"diagrams\":[{\"type\":\"scatter\",\"options\":{\"x\":\"a\",\"y\":\"b\",\"title\":\"I\",\"size\":300,\"tooltip_contents\":[\"I\",\"I\",\"I\"]},\"data\":\"fe647398-de0b-4343-ad4f-e6e8af06c14f\"},{\"type\":\"scatter\",\"options\":{\"x\":\"a\",\"y\":\"b\",\"title\":\"II\",\"size\":600,\"tooltip_contents\":[\"II\",\"II\"]},\"data\":\"1a9aea48-bb66-4f50-8a91-a8cc72efab92\"},{\"type\":\"scatter\",\"options\":{\"x\":\"a\",\"y\":\"b\",\"title\":\"III\",\"size\":900,\"tooltip_contents\":[\"III\",\"III\"]},\"data\":\"0a3580dc-ab4b-49ed-b0d8-52f20fe75d94\"}],\"options\":{\"legend\":true,\"zoom\":true,\"width\":800,\"xrange\":[-10,10],\"yrange\":[-10,10]}}],\"data\":{\"fe647398-de0b-4343-ad4f-e6e8af06c14f\":[{\"a\":1,\"b\":3},{\"a\":4,\"b\":3},{\"a\":5,\"b\":2}],\"1a9aea48-bb66-4f50-8a91-a8cc72efab92\":[{\"a\":2,\"b\":1},{\"a\":0,\"b\":0}],\"0a3580dc-ab4b-49ed-b0d8-52f20fe75d94\":[{\"a\":-2,\"b\":-6},{\"a\":23,\"b\":1}]},\"extension\":[]}\n",
       "        var id_name = '#vis-fd8060a8-40ab-49b6-8afc-6ee7559f5a0b';\n",
       "        Nyaplot.core.parse(model, id_name);\n",
       "\n",
       "        require(['downloadable'], function(downloadable){\n",
       "          var svg = d3.select(id_name).select(\"svg\");\n",
       "\t  if(!svg.empty())\n",
       "\t    svg.call(downloadable().filename('fig'));\n",
       "\t});\n",
       "    };\n",
       "    if(window['Nyaplot']==undefined){\n",
       "        window.addEventListener('load_nyaplot', render, false);\n",
       "\treturn;\n",
       "    } else {\n",
       "       render();\n",
       "    }\n",
       "})();\n",
       "</script>\n"
      ],
      "text/plain": [
       "#<Nyaplot::Plot:0x007fb2cd449300 @properties={:diagrams=>[#<Nyaplot::Diagram:0x007fb2cda8b128 @properties={:type=>:scatter, :options=>{:x=>:a, :y=>:b, :title=>\"I\", :size=>300, :tooltip_contents=>[\"I\", \"I\", \"I\"]}, :data=>\"fe647398-de0b-4343-ad4f-e6e8af06c14f\"}, @xrange=[1, 5], @yrange=[2, 3]>, #<Nyaplot::Diagram:0x007fb2cda7be80 @properties={:type=>:scatter, :options=>{:x=>:a, :y=>:b, :title=>\"II\", :size=>600, :tooltip_contents=>[\"II\", \"II\"]}, :data=>\"1a9aea48-bb66-4f50-8a91-a8cc72efab92\"}, @xrange=[0, 2], @yrange=[0, 1]>, #<Nyaplot::Diagram:0x007fb2cda71868 @properties={:type=>:scatter, :options=>{:x=>:a, :y=>:b, :title=>\"III\", :size=>900, :tooltip_contents=>[\"III\", \"III\"]}, :data=>\"0a3580dc-ab4b-49ed-b0d8-52f20fe75d94\"}, @xrange=[-2, 23], @yrange=[-6, 1]>], :options=>{:legend=>true, :zoom=>true, :width=>800, :xrange=>[-10, 10], :yrange=>[-10, 10]}}>"
      ]
     },
     "execution_count": 26,
     "metadata": {},
     "output_type": "execute_result"
    }
   ],
   "source": [
    "scatter_4 = Daru::View::Plot.new(df, type: :scatter, x: :a, y: :b, categorized: {by: :c, method: :size, size: [300, 600, 900]})\n",
    "scatter_4.show_in_iruby\n",
    "scatter_4.chart.xrange [-10, 10]\n",
    "scatter_4.chart.yrange [-10, 10]"
   ]
  },
  {
   "cell_type": "markdown",
   "metadata": {},
   "source": [
    "### Line plot categorized by categorical variable\n",
    "It works similar to Scatter plot above and all options are same except that there's no categorization by size but instead there is categorization by stroke_width in line plots."
   ]
  },
  {
   "cell_type": "code",
   "execution_count": 27,
   "metadata": {
    "collapsed": false
   },
   "outputs": [
    {
     "data": {
      "text/plain": [
       ":category"
      ]
     },
     "execution_count": 27,
     "metadata": {},
     "output_type": "execute_result"
    }
   ],
   "source": [
    "df = Daru::DataFrame.new({\n",
    "  a: [1, 2, 3, 4, 5, 6, 7, 8, 9],\n",
    "  b: [2, 4, 6, 1, 3, 5, 6, 4, 3],\n",
    "  c: ['I']*3 + ['II']*3 + ['III']*3\n",
    "  })\n",
    "df.to_category :c\n",
    "df[:c].type"
   ]
  },
  {
   "cell_type": "code",
   "execution_count": 28,
   "metadata": {
    "collapsed": false
   },
   "outputs": [
    {
     "data": {
      "text/html": [
       "<div id='vis-714bb87a-766e-431e-b397-736903f3b839'></div>\n",
       "<script>\n",
       "(function(){\n",
       "    var render = function(){\n",
       "        var model = {\"panes\":[{\"diagrams\":[{\"type\":\"line\",\"options\":{\"x\":\"a\",\"y\":\"b\",\"title\":\"I\",\"color\":\"rgb(251,180,174)\"},\"data\":\"b4289654-a913-4735-9aef-749210fb6101\"},{\"type\":\"line\",\"options\":{\"x\":\"a\",\"y\":\"b\",\"title\":\"II\",\"color\":\"rgb(179,205,227)\"},\"data\":\"fd0f6ff5-90a3-442c-8ead-f2f6bc52626a\"},{\"type\":\"line\",\"options\":{\"x\":\"a\",\"y\":\"b\",\"title\":\"III\",\"color\":\"rgb(204,235,197)\"},\"data\":\"9d764db7-a1dd-47a5-9064-877741c3b253\"}],\"options\":{\"legend\":true,\"zoom\":true,\"width\":800,\"xrange\":[1,9],\"yrange\":[1,6]}}],\"data\":{\"b4289654-a913-4735-9aef-749210fb6101\":[{\"a\":1,\"b\":2},{\"a\":2,\"b\":4},{\"a\":3,\"b\":6}],\"fd0f6ff5-90a3-442c-8ead-f2f6bc52626a\":[{\"a\":4,\"b\":1},{\"a\":5,\"b\":3},{\"a\":6,\"b\":5}],\"9d764db7-a1dd-47a5-9064-877741c3b253\":[{\"a\":7,\"b\":6},{\"a\":8,\"b\":4},{\"a\":9,\"b\":3}]},\"extension\":[]}\n",
       "        var id_name = '#vis-714bb87a-766e-431e-b397-736903f3b839';\n",
       "        Nyaplot.core.parse(model, id_name);\n",
       "\n",
       "        require(['downloadable'], function(downloadable){\n",
       "          var svg = d3.select(id_name).select(\"svg\");\n",
       "\t  if(!svg.empty())\n",
       "\t    svg.call(downloadable().filename('fig'));\n",
       "\t});\n",
       "    };\n",
       "    if(window['Nyaplot']==undefined){\n",
       "        window.addEventListener('load_nyaplot', render, false);\n",
       "\treturn;\n",
       "    } else {\n",
       "       render();\n",
       "    }\n",
       "})();\n",
       "</script>\n"
      ],
      "text/plain": [
       "#<Nyaplot::Frame:0x007fb2cd9a3c60 @properties={:panes=>[#<Nyaplot::Plot:0x007fb2cd9d2290 @properties={:diagrams=>[#<Nyaplot::Diagram:0x007fb2cd9c32b8 @properties={:type=>:line, :options=>{:x=>:a, :y=>:b, :title=>\"I\", :color=>\"rgb(251,180,174)\"}, :data=>\"b4289654-a913-4735-9aef-749210fb6101\"}, @xrange=[1, 3], @yrange=[2, 6]>, #<Nyaplot::Diagram:0x007fb2cd9b3e80 @properties={:type=>:line, :options=>{:x=>:a, :y=>:b, :title=>\"II\", :color=>\"rgb(179,205,227)\"}, :data=>\"fd0f6ff5-90a3-442c-8ead-f2f6bc52626a\"}, @xrange=[4, 6], @yrange=[1, 5]>, #<Nyaplot::Diagram:0x007fb2cd9a9368 @properties={:type=>:line, :options=>{:x=>:a, :y=>:b, :title=>\"III\", :color=>\"rgb(204,235,197)\"}, :data=>\"9d764db7-a1dd-47a5-9064-877741c3b253\"}, @xrange=[7, 9], @yrange=[3, 6]>], :options=>{:legend=>true, :zoom=>true, :width=>800, :xrange=>[1, 9], :yrange=>[1, 6]}}>], :data=>{\"b4289654-a913-4735-9aef-749210fb6101\"=>#<Nyaplot::DataFrame:0x007fb2cd9c3768 @name=\"b4289654-a913-4735-9aef-749210fb6101\", @rows=[{:a=>1, :b=>2}, {:a=>2, :b=>4}, {:a=>3, :b=>6}]>, \"fd0f6ff5-90a3-442c-8ead-f2f6bc52626a\"=>#<Nyaplot::DataFrame:0x007fb2cd9b82a0 @name=\"fd0f6ff5-90a3-442c-8ead-f2f6bc52626a\", @rows=[{:a=>4, :b=>1}, {:a=>5, :b=>3}, {:a=>6, :b=>5}]>, \"9d764db7-a1dd-47a5-9064-877741c3b253\"=>#<Nyaplot::DataFrame:0x007fb2cd9a9778 @name=\"9d764db7-a1dd-47a5-9064-877741c3b253\", @rows=[{:a=>7, :b=>6}, {:a=>8, :b=>4}, {:a=>9, :b=>3}]>}, :extension=>[]}>"
      ]
     },
     "metadata": {},
     "output_type": "display_data"
    }
   ],
   "source": [
    "line_1 = Daru::View::Plot.new(df, type: :line, x: :a, y: :b, categorized: {by: :c, method: :color})\n",
    "line_1.show_in_iruby"
   ]
  },
  {
   "cell_type": "code",
   "execution_count": 29,
   "metadata": {
    "collapsed": false
   },
   "outputs": [
    {
     "data": {
      "text/html": [
       "<div id='vis-93d457af-745f-4dba-971e-edd1a529f5d3'></div>\n",
       "<script>\n",
       "(function(){\n",
       "    var render = function(){\n",
       "        var model = {\"panes\":[{\"diagrams\":[{\"type\":\"line\",\"options\":{\"x\":\"a\",\"y\":\"b\",\"title\":\"I\",\"stroke_width\":2},\"data\":\"ac2d08e8-2538-491f-8eb1-ebdad9189f52\"},{\"type\":\"line\",\"options\":{\"x\":\"a\",\"y\":\"b\",\"title\":\"II\",\"stroke_width\":4},\"data\":\"e063abde-25c2-4216-9426-ead82ea778b3\"},{\"type\":\"line\",\"options\":{\"x\":\"a\",\"y\":\"b\",\"title\":\"III\",\"stroke_width\":6},\"data\":\"cbc98802-48ab-4c68-bf60-a034f00eb318\"}],\"options\":{\"legend\":true,\"zoom\":true,\"width\":800,\"xrange\":[1,9],\"yrange\":[1,6]}}],\"data\":{\"ac2d08e8-2538-491f-8eb1-ebdad9189f52\":[{\"a\":1,\"b\":2},{\"a\":2,\"b\":4},{\"a\":3,\"b\":6}],\"e063abde-25c2-4216-9426-ead82ea778b3\":[{\"a\":4,\"b\":1},{\"a\":5,\"b\":3},{\"a\":6,\"b\":5}],\"cbc98802-48ab-4c68-bf60-a034f00eb318\":[{\"a\":7,\"b\":6},{\"a\":8,\"b\":4},{\"a\":9,\"b\":3}]},\"extension\":[]}\n",
       "        var id_name = '#vis-93d457af-745f-4dba-971e-edd1a529f5d3';\n",
       "        Nyaplot.core.parse(model, id_name);\n",
       "\n",
       "        require(['downloadable'], function(downloadable){\n",
       "          var svg = d3.select(id_name).select(\"svg\");\n",
       "\t  if(!svg.empty())\n",
       "\t    svg.call(downloadable().filename('fig'));\n",
       "\t});\n",
       "    };\n",
       "    if(window['Nyaplot']==undefined){\n",
       "        window.addEventListener('load_nyaplot', render, false);\n",
       "\treturn;\n",
       "    } else {\n",
       "       render();\n",
       "    }\n",
       "})();\n",
       "</script>\n"
      ],
      "text/plain": [
       "#<Nyaplot::Frame:0x007fb2cd428e98 @properties={:panes=>[#<Nyaplot::Plot:0x007fb2cc2e1888 @properties={:diagrams=>[#<Nyaplot::Diagram:0x007fb2cd4439a0 @properties={:type=>:line, :options=>{:x=>:a, :y=>:b, :title=>\"I\", :stroke_width=>2}, :data=>\"ac2d08e8-2538-491f-8eb1-ebdad9189f52\"}, @xrange=[1, 3], @yrange=[2, 6]>, #<Nyaplot::Diagram:0x007fb2cd439658 @properties={:type=>:line, :options=>{:x=>:a, :y=>:b, :title=>\"II\", :stroke_width=>4}, :data=>\"e063abde-25c2-4216-9426-ead82ea778b3\"}, @xrange=[4, 6], @yrange=[1, 5]>, #<Nyaplot::Diagram:0x007fb2cd42a860 @properties={:type=>:line, :options=>{:x=>:a, :y=>:b, :title=>\"III\", :stroke_width=>6}, :data=>\"cbc98802-48ab-4c68-bf60-a034f00eb318\"}, @xrange=[7, 9], @yrange=[3, 6]>], :options=>{:legend=>true, :zoom=>true, :width=>800, :xrange=>[1, 9], :yrange=>[1, 6]}}>], :data=>{\"ac2d08e8-2538-491f-8eb1-ebdad9189f52\"=>#<Nyaplot::DataFrame:0x007fb2cd443f40 @name=\"ac2d08e8-2538-491f-8eb1-ebdad9189f52\", @rows=[{:a=>1, :b=>2}, {:a=>2, :b=>4}, {:a=>3, :b=>6}]>, \"e063abde-25c2-4216-9426-ead82ea778b3\"=>#<Nyaplot::DataFrame:0x007fb2cd439a40 @name=\"e063abde-25c2-4216-9426-ead82ea778b3\", @rows=[{:a=>4, :b=>1}, {:a=>5, :b=>3}, {:a=>6, :b=>5}]>, \"cbc98802-48ab-4c68-bf60-a034f00eb318\"=>#<Nyaplot::DataFrame:0x007fb2cd42af40 @name=\"cbc98802-48ab-4c68-bf60-a034f00eb318\", @rows=[{:a=>7, :b=>6}, {:a=>8, :b=>4}, {:a=>9, :b=>3}]>}, :extension=>[]}>"
      ]
     },
     "metadata": {},
     "output_type": "display_data"
    },
    {
     "data": {
      "text/html": [
       "<div id='vis-77e868ff-f96d-4e7f-b86f-2e926188fcb7'></div>\n",
       "<script>\n",
       "(function(){\n",
       "    var render = function(){\n",
       "        var model = {\"panes\":[{\"diagrams\":[{\"type\":\"line\",\"options\":{\"x\":\"a\",\"y\":\"b\",\"title\":\"I\",\"stroke_width\":2},\"data\":\"ac2d08e8-2538-491f-8eb1-ebdad9189f52\"},{\"type\":\"line\",\"options\":{\"x\":\"a\",\"y\":\"b\",\"title\":\"II\",\"stroke_width\":4},\"data\":\"e063abde-25c2-4216-9426-ead82ea778b3\"},{\"type\":\"line\",\"options\":{\"x\":\"a\",\"y\":\"b\",\"title\":\"III\",\"stroke_width\":6},\"data\":\"cbc98802-48ab-4c68-bf60-a034f00eb318\"}],\"options\":{\"legend\":true,\"zoom\":true,\"width\":800,\"xrange\":[-10,10],\"yrange\":[-10,10]}}],\"data\":{\"ac2d08e8-2538-491f-8eb1-ebdad9189f52\":[{\"a\":1,\"b\":2},{\"a\":2,\"b\":4},{\"a\":3,\"b\":6}],\"e063abde-25c2-4216-9426-ead82ea778b3\":[{\"a\":4,\"b\":1},{\"a\":5,\"b\":3},{\"a\":6,\"b\":5}],\"cbc98802-48ab-4c68-bf60-a034f00eb318\":[{\"a\":7,\"b\":6},{\"a\":8,\"b\":4},{\"a\":9,\"b\":3}]},\"extension\":[]}\n",
       "        var id_name = '#vis-77e868ff-f96d-4e7f-b86f-2e926188fcb7';\n",
       "        Nyaplot.core.parse(model, id_name);\n",
       "\n",
       "        require(['downloadable'], function(downloadable){\n",
       "          var svg = d3.select(id_name).select(\"svg\");\n",
       "\t  if(!svg.empty())\n",
       "\t    svg.call(downloadable().filename('fig'));\n",
       "\t});\n",
       "    };\n",
       "    if(window['Nyaplot']==undefined){\n",
       "        window.addEventListener('load_nyaplot', render, false);\n",
       "\treturn;\n",
       "    } else {\n",
       "       render();\n",
       "    }\n",
       "})();\n",
       "</script>\n"
      ],
      "text/plain": [
       "#<Nyaplot::Plot:0x007fb2cc2e1888 @properties={:diagrams=>[#<Nyaplot::Diagram:0x007fb2cd4439a0 @properties={:type=>:line, :options=>{:x=>:a, :y=>:b, :title=>\"I\", :stroke_width=>2}, :data=>\"ac2d08e8-2538-491f-8eb1-ebdad9189f52\"}, @xrange=[1, 3], @yrange=[2, 6]>, #<Nyaplot::Diagram:0x007fb2cd439658 @properties={:type=>:line, :options=>{:x=>:a, :y=>:b, :title=>\"II\", :stroke_width=>4}, :data=>\"e063abde-25c2-4216-9426-ead82ea778b3\"}, @xrange=[4, 6], @yrange=[1, 5]>, #<Nyaplot::Diagram:0x007fb2cd42a860 @properties={:type=>:line, :options=>{:x=>:a, :y=>:b, :title=>\"III\", :stroke_width=>6}, :data=>\"cbc98802-48ab-4c68-bf60-a034f00eb318\"}, @xrange=[7, 9], @yrange=[3, 6]>], :options=>{:legend=>true, :zoom=>true, :width=>800, :xrange=>[-10, 10], :yrange=>[-10, 10]}}>"
      ]
     },
     "execution_count": 29,
     "metadata": {},
     "output_type": "execute_result"
    }
   ],
   "source": [
    "line_2 = Daru::View::Plot.new(df, type: :line, x: :a, y: :b, categorized: {by: :c, method: :stroke_width})\n",
    "line_2.show_in_iruby\n",
    "line_2.chart.xrange [-10, 10]\n",
    "line_2.chart.yrange [-10, 10]"
   ]
  },
  {
   "cell_type": "code",
   "execution_count": null,
   "metadata": {
    "collapsed": true
   },
   "outputs": [],
   "source": []
  }
 ],
 "metadata": {
  "kernelspec": {
   "display_name": "Ruby 2.3.1",
   "language": "ruby",
   "name": "ruby"
  },
  "language_info": {
   "file_extension": ".rb",
   "mimetype": "application/x-ruby",
   "name": "ruby",
   "version": "2.3.1"
  }
 },
 "nbformat": 4,
 "nbformat_minor": 2
}
