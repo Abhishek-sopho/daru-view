{
 "cells": [
  {
   "cell_type": "code",
   "execution_count": 1,
   "metadata": {
    "collapsed": false
   },
   "outputs": [
    {
     "name": "stderr",
     "output_type": "stream",
     "text": [
      "\n",
      "Install the spreadsheet gem version ~>1.1.1 for using spreadsheet functions.\n",
      "\n",
      "Install the mechanize gem version ~>2.7.5 for using mechanize functions.\n"
     ]
    },
    {
     "data": {
      "text/plain": [
       "true"
      ]
     },
     "execution_count": 1,
     "metadata": {},
     "output_type": "execute_result"
    }
   ],
   "source": [
    "require 'daru/view'"
   ]
  },
  {
   "cell_type": "markdown",
   "metadata": {},
   "source": [
    "# Categorical Vector Visualization"
   ]
  },
  {
   "cell_type": "code",
   "execution_count": 2,
   "metadata": {
    "collapsed": false
   },
   "outputs": [
    {
     "data": {
      "text/html": [
       "<table>\n",
       "  <tr>\n",
       "    <th colspan=\"2\">Daru::Vector(6):category</th>\n",
       "  </tr>\n",
       "  \n",
       "\n",
       "  \n",
       "    <tr>\n",
       "      <td>0</td>\n",
       "      <td>a</td>\n",
       "    </tr>\n",
       "  \n",
       "    <tr>\n",
       "      <td>1</td>\n",
       "      <td>a</td>\n",
       "    </tr>\n",
       "  \n",
       "    <tr>\n",
       "      <td>2</td>\n",
       "      <td>a</td>\n",
       "    </tr>\n",
       "  \n",
       "    <tr>\n",
       "      <td>3</td>\n",
       "      <td>b</td>\n",
       "    </tr>\n",
       "  \n",
       "    <tr>\n",
       "      <td>4</td>\n",
       "      <td>b</td>\n",
       "    </tr>\n",
       "  \n",
       "    <tr>\n",
       "      <td>5</td>\n",
       "      <td>c</td>\n",
       "    </tr>\n",
       "  \n",
       "\n",
       "  \n",
       "</table>"
      ],
      "text/plain": [
       "#<Daru::Vector(6):cataegory>\n",
       "   0   a\n",
       "   1   a\n",
       "   2   a\n",
       "   3   b\n",
       "   4   b\n",
       "   5   c"
      ]
     },
     "execution_count": 2,
     "metadata": {},
     "output_type": "execute_result"
    }
   ],
   "source": [
    "dv = Daru::Vector.new [:a, :a, :a, :b, :b, :c], type: :category"
   ]
  },
  {
   "cell_type": "markdown",
   "metadata": {},
   "source": [
    "### Bar graph\n",
    "\n",
    "##### 1. Frequency (count)"
   ]
  },
  {
   "cell_type": "code",
   "execution_count": 3,
   "metadata": {
    "collapsed": false
   },
   "outputs": [
    {
     "data": {
      "text/plain": [
       "#<Daru::View::Plot:0x007fb8c11d3a18 @data=#<Daru::Vector(6):cataegory>\n",
       "   0   a\n",
       "   1   a\n",
       "   2   a\n",
       "   3   b\n",
       "   4   b\n",
       "   5   c, @options={:type=>:bar, :method=>:count}, @adapter=Daru::View::Adapter::NyaplotAdapter, @chart=#<Nyaplot::Plot:0x007fb8c11d3950 @properties={:diagrams=>[#<Nyaplot::Diagram:0x007fb8c11d2320 @properties={:type=>:bar, :options=>{:x=>\"data0\", :y=>\"data1\"}, :data=>\"594768f2-8a2d-4da6-aaf6-a4493f8ba694\"}, @xrange=[:a, :b, :c], @yrange=[0, 3]>], :options=>{}}>>"
      ]
     },
     "execution_count": 3,
     "metadata": {},
     "output_type": "execute_result"
    }
   ],
   "source": [
    "bar_graph1 = Daru::View::Plot.new(dv, type: :bar)"
   ]
  },
  {
   "cell_type": "code",
   "execution_count": 4,
   "metadata": {
    "collapsed": false
   },
   "outputs": [
    {
     "data": {
      "text/plain": [
       "Nyaplot::Plot"
      ]
     },
     "execution_count": 4,
     "metadata": {},
     "output_type": "execute_result"
    }
   ],
   "source": [
    "bar_graph1.chart.class"
   ]
  },
  {
   "cell_type": "code",
   "execution_count": 5,
   "metadata": {
    "collapsed": false
   },
   "outputs": [
    {
     "data": {
      "text/html": [
       "<div id='vis-f99dbad9-291e-4f42-89d6-e9b64b4ca46c'></div>\n",
       "<script>\n",
       "(function(){\n",
       "    var render = function(){\n",
       "        var model = {\"panes\":[{\"diagrams\":[{\"type\":\"bar\",\"options\":{\"x\":\"data0\",\"y\":\"data1\"},\"data\":\"594768f2-8a2d-4da6-aaf6-a4493f8ba694\"}],\"options\":{\"width\":700,\"xrange\":[\"a\",\"b\",\"c\"],\"yrange\":[0,3]}}],\"data\":{\"594768f2-8a2d-4da6-aaf6-a4493f8ba694\":[{\"data0\":\"a\",\"data1\":3},{\"data0\":\"b\",\"data1\":2},{\"data0\":\"c\",\"data1\":1}]},\"extension\":[]}\n",
       "        var id_name = '#vis-f99dbad9-291e-4f42-89d6-e9b64b4ca46c';\n",
       "        Nyaplot.core.parse(model, id_name);\n",
       "\n",
       "        require(['downloadable'], function(downloadable){\n",
       "          var svg = d3.select(id_name).select(\"svg\");\n",
       "\t  if(!svg.empty())\n",
       "\t    svg.call(downloadable().filename('fig'));\n",
       "\t});\n",
       "    };\n",
       "    if(window['Nyaplot']==undefined){\n",
       "        window.addEventListener('load_nyaplot', render, false);\n",
       "\treturn;\n",
       "    } else {\n",
       "       render();\n",
       "    }\n",
       "})();\n",
       "</script>\n"
      ],
      "text/plain": [
       "#<Nyaplot::Frame:0x007fb8bfa29138 @properties={:panes=>[#<Nyaplot::Plot:0x007fb8c11d3950 @properties={:diagrams=>[#<Nyaplot::Diagram:0x007fb8c11d2320 @properties={:type=>:bar, :options=>{:x=>\"data0\", :y=>\"data1\"}, :data=>\"594768f2-8a2d-4da6-aaf6-a4493f8ba694\"}, @xrange=[:a, :b, :c], @yrange=[0, 3]>], :options=>{:width=>700, :xrange=>[:a, :b, :c], :yrange=>[0, 3]}}>], :data=>{\"594768f2-8a2d-4da6-aaf6-a4493f8ba694\"=>#<Nyaplot::DataFrame:0x007fb8c11d2c30 @name=\"594768f2-8a2d-4da6-aaf6-a4493f8ba694\", @rows=[{:data0=>:a, :data1=>3}, {:data0=>:b, :data1=>2}, {:data0=>:c, :data1=>1}]>}, :extension=>[]}>"
      ]
     },
     "metadata": {},
     "output_type": "display_data"
    }
   ],
   "source": [
    "bar_graph1.show_in_iruby"
   ]
  },
  {
   "cell_type": "code",
   "execution_count": 6,
   "metadata": {
    "collapsed": false
   },
   "outputs": [
    {
     "data": {
      "text/plain": [
       ":category"
      ]
     },
     "execution_count": 6,
     "metadata": {},
     "output_type": "execute_result"
    }
   ],
   "source": [
    "dv = Daru::Vector.new ['III']*10 + ['II']*5 + ['I']*5, type: :category, categories: ['I', 'II', 'III']\n",
    "dv.type"
   ]
  },
  {
   "cell_type": "code",
   "execution_count": 7,
   "metadata": {
    "collapsed": false
   },
   "outputs": [
    {
     "data": {
      "text/plain": [
       "#<Daru::View::Plot:0x007fb8c1178208 @data=#<Daru::Vector(20):cataegory>\n",
       "   0 III\n",
       "   1 III\n",
       "   2 III\n",
       "   3 III\n",
       "   4 III\n",
       "   5 III\n",
       "   6 III\n",
       "   7 III\n",
       "   8 III\n",
       "   9 III\n",
       "  10  II\n",
       "  11  II\n",
       "  12  II\n",
       "  13  II\n",
       "  14  II\n",
       " ... ..., @options={:type=>:bar, :method=>:count}, @adapter=Daru::View::Adapter::NyaplotAdapter, @chart=#<Nyaplot::Plot:0x007fb8c11780a0 @properties={:diagrams=>[#<Nyaplot::Diagram:0x007fb8c1170a30 @properties={:type=>:bar, :options=>{:x=>\"data0\", :y=>\"data1\"}, :data=>\"4ef30d23-fa00-461a-be04-d18e7353464f\"}, @xrange=[\"I\", \"II\", \"III\"], @yrange=[0, 10]>], :options=>{}}>>"
      ]
     },
     "execution_count": 7,
     "metadata": {},
     "output_type": "execute_result"
    }
   ],
   "source": [
    "bar_graph2 = Daru::View::Plot.new(dv, type: :bar)"
   ]
  },
  {
   "cell_type": "code",
   "execution_count": 8,
   "metadata": {
    "collapsed": false
   },
   "outputs": [
    {
     "data": {
      "text/plain": [
       "Daru::View::Plot"
      ]
     },
     "execution_count": 8,
     "metadata": {},
     "output_type": "execute_result"
    }
   ],
   "source": [
    "bar_graph2.class"
   ]
  },
  {
   "cell_type": "code",
   "execution_count": 9,
   "metadata": {
    "collapsed": false
   },
   "outputs": [
    {
     "data": {
      "text/plain": [
       "Nyaplot::Plot"
      ]
     },
     "execution_count": 9,
     "metadata": {},
     "output_type": "execute_result"
    }
   ],
   "source": [
    "bar_graph2.chart.class"
   ]
  },
  {
   "cell_type": "code",
   "execution_count": 10,
   "metadata": {
    "collapsed": false
   },
   "outputs": [
    {
     "data": {
      "text/html": [
       "<div id='vis-dada1a2d-2ee2-4f53-88a8-64de29bc78c0'></div>\n",
       "<script>\n",
       "(function(){\n",
       "    var render = function(){\n",
       "        var model = {\"panes\":[{\"diagrams\":[{\"type\":\"bar\",\"options\":{\"x\":\"data0\",\"y\":\"data1\"},\"data\":\"4ef30d23-fa00-461a-be04-d18e7353464f\"}],\"options\":{\"x_label\":\"Cat\",\"y_label\":\"Frequency\",\"width\":700,\"xrange\":[\"I\",\"II\",\"III\"],\"yrange\":[0,10]}}],\"data\":{\"4ef30d23-fa00-461a-be04-d18e7353464f\":[{\"data0\":\"I\",\"data1\":5},{\"data0\":\"II\",\"data1\":5},{\"data0\":\"III\",\"data1\":10}]},\"extension\":[]}\n",
       "        var id_name = '#vis-dada1a2d-2ee2-4f53-88a8-64de29bc78c0';\n",
       "        Nyaplot.core.parse(model, id_name);\n",
       "\n",
       "        require(['downloadable'], function(downloadable){\n",
       "          var svg = d3.select(id_name).select(\"svg\");\n",
       "\t  if(!svg.empty())\n",
       "\t    svg.call(downloadable().filename('fig'));\n",
       "\t});\n",
       "    };\n",
       "    if(window['Nyaplot']==undefined){\n",
       "        window.addEventListener('load_nyaplot', render, false);\n",
       "\treturn;\n",
       "    } else {\n",
       "       render();\n",
       "    }\n",
       "})();\n",
       "</script>\n"
      ],
      "text/plain": [
       "#<Nyaplot::Plot:0x007fb8c11780a0 @properties={:diagrams=>[#<Nyaplot::Diagram:0x007fb8c1170a30 @properties={:type=>:bar, :options=>{:x=>\"data0\", :y=>\"data1\"}, :data=>\"4ef30d23-fa00-461a-be04-d18e7353464f\"}, @xrange=[\"I\", \"II\", \"III\"], @yrange=[0, 10]>], :options=>{:x_label=>\"Cat\", :y_label=>\"Frequency\", :width=>700, :xrange=>[\"I\", \"II\", \"III\"], :yrange=>[0, 10]}}>"
      ]
     },
     "execution_count": 10,
     "metadata": {},
     "output_type": "execute_result"
    }
   ],
   "source": [
    "# Nyaplot methods will work.Since #chart is Nyaplot::Plot class object\n",
    "bar_graph2.chart.x_label 'Cat'\n",
    "bar_graph2.chart.y_label 'Frequency'"
   ]
  },
  {
   "cell_type": "code",
   "execution_count": 11,
   "metadata": {
    "collapsed": false
   },
   "outputs": [
    {
     "data": {
      "text/html": [
       "<div id='vis-9cdf1e6a-759f-4f6d-bf41-3cfda6c0f467'></div>\n",
       "<script>\n",
       "(function(){\n",
       "    var render = function(){\n",
       "        var model = {\"panes\":[{\"diagrams\":[{\"type\":\"bar\",\"options\":{\"x\":\"data0\",\"y\":\"data1\"},\"data\":\"4ef30d23-fa00-461a-be04-d18e7353464f\"}],\"options\":{\"x_label\":\"Cat\",\"y_label\":\"Frequency\",\"width\":700,\"xrange\":[\"I\",\"II\",\"III\"],\"yrange\":[0,10]}}],\"data\":{\"4ef30d23-fa00-461a-be04-d18e7353464f\":[{\"data0\":\"I\",\"data1\":5},{\"data0\":\"II\",\"data1\":5},{\"data0\":\"III\",\"data1\":10}]},\"extension\":[]}\n",
       "        var id_name = '#vis-9cdf1e6a-759f-4f6d-bf41-3cfda6c0f467';\n",
       "        Nyaplot.core.parse(model, id_name);\n",
       "\n",
       "        require(['downloadable'], function(downloadable){\n",
       "          var svg = d3.select(id_name).select(\"svg\");\n",
       "\t  if(!svg.empty())\n",
       "\t    svg.call(downloadable().filename('fig'));\n",
       "\t});\n",
       "    };\n",
       "    if(window['Nyaplot']==undefined){\n",
       "        window.addEventListener('load_nyaplot', render, false);\n",
       "\treturn;\n",
       "    } else {\n",
       "       render();\n",
       "    }\n",
       "})();\n",
       "</script>\n"
      ],
      "text/plain": [
       "#<Nyaplot::Plot:0x007fb8c11780a0 @properties={:diagrams=>[#<Nyaplot::Diagram:0x007fb8c1170a30 @properties={:type=>:bar, :options=>{:x=>\"data0\", :y=>\"data1\"}, :data=>\"4ef30d23-fa00-461a-be04-d18e7353464f\"}, @xrange=[\"I\", \"II\", \"III\"], @yrange=[0, 10]>], :options=>{:x_label=>\"Cat\", :y_label=>\"Frequency\", :width=>700, :xrange=>[\"I\", \"II\", \"III\"], :yrange=>[0, 10]}}>"
      ]
     },
     "execution_count": 11,
     "metadata": {},
     "output_type": "execute_result"
    }
   ],
   "source": [
    "bar_graph2.chart # or bar_graph2.show_in_iruby"
   ]
  },
  {
   "cell_type": "markdown",
   "metadata": {},
   "source": [
    "#### 2. Percentage"
   ]
  },
  {
   "cell_type": "code",
   "execution_count": 12,
   "metadata": {
    "collapsed": false
   },
   "outputs": [
    {
     "data": {
      "text/plain": [
       "#<Daru::View::Plot:0x007fb8c1350288 @data=#<Daru::Vector(20):cataegory>\n",
       "   0 III\n",
       "   1 III\n",
       "   2 III\n",
       "   3 III\n",
       "   4 III\n",
       "   5 III\n",
       "   6 III\n",
       "   7 III\n",
       "   8 III\n",
       "   9 III\n",
       "  10  II\n",
       "  11  II\n",
       "  12  II\n",
       "  13  II\n",
       "  14  II\n",
       " ... ..., @options={:type=>:bar, :method=>:percentage}, @adapter=Daru::View::Adapter::NyaplotAdapter, @chart=#<Nyaplot::Plot:0x007fb8c1350238 @properties={:diagrams=>[#<Nyaplot::Diagram:0x007fb8c134ae28 @properties={:type=>:bar, :options=>{:x=>\"data0\", :y=>\"data1\"}, :data=>\"bdf26610-d398-4f23-b694-1f9c19771db2\"}, @xrange=[\"I\", \"II\", \"III\"], @yrange=[0, 50.0]>], :options=>{:yrange=>[0, 100]}}>>"
      ]
     },
     "execution_count": 12,
     "metadata": {},
     "output_type": "execute_result"
    }
   ],
   "source": [
    "bar_graph2_per = Daru::View::Plot.new(dv, type: :bar, method: :percentage)"
   ]
  },
  {
   "cell_type": "code",
   "execution_count": 13,
   "metadata": {
    "collapsed": false
   },
   "outputs": [
    {
     "data": {
      "text/html": [
       "<div id='vis-47eb0d0d-c689-4dfb-99f9-c6ff82dfc737'></div>\n",
       "<script>\n",
       "(function(){\n",
       "    var render = function(){\n",
       "        var model = {\"panes\":[{\"diagrams\":[{\"type\":\"bar\",\"options\":{\"x\":\"data0\",\"y\":\"data1\"},\"data\":\"bdf26610-d398-4f23-b694-1f9c19771db2\"}],\"options\":{\"yrange\":[0,100],\"x_label\":\"Categories\",\"y_label\":\"Percentage (%)\",\"width\":700,\"xrange\":[\"I\",\"II\",\"III\"]}}],\"data\":{\"bdf26610-d398-4f23-b694-1f9c19771db2\":[{\"data0\":\"I\",\"data1\":25.0},{\"data0\":\"II\",\"data1\":25.0},{\"data0\":\"III\",\"data1\":50.0}]},\"extension\":[]}\n",
       "        var id_name = '#vis-47eb0d0d-c689-4dfb-99f9-c6ff82dfc737';\n",
       "        Nyaplot.core.parse(model, id_name);\n",
       "\n",
       "        require(['downloadable'], function(downloadable){\n",
       "          var svg = d3.select(id_name).select(\"svg\");\n",
       "\t  if(!svg.empty())\n",
       "\t    svg.call(downloadable().filename('fig'));\n",
       "\t});\n",
       "    };\n",
       "    if(window['Nyaplot']==undefined){\n",
       "        window.addEventListener('load_nyaplot', render, false);\n",
       "\treturn;\n",
       "    } else {\n",
       "       render();\n",
       "    }\n",
       "})();\n",
       "</script>\n"
      ],
      "text/plain": [
       "#<Nyaplot::Frame:0x007fb8c0a7d070 @properties={:panes=>[#<Nyaplot::Plot:0x007fb8c1350238 @properties={:diagrams=>[#<Nyaplot::Diagram:0x007fb8c134ae28 @properties={:type=>:bar, :options=>{:x=>\"data0\", :y=>\"data1\"}, :data=>\"bdf26610-d398-4f23-b694-1f9c19771db2\"}, @xrange=[\"I\", \"II\", \"III\"], @yrange=[0, 50.0]>], :options=>{:yrange=>[0, 100], :x_label=>\"Categories\", :y_label=>\"Percentage (%)\", :width=>700, :xrange=>[\"I\", \"II\", \"III\"]}}>], :data=>{\"bdf26610-d398-4f23-b694-1f9c19771db2\"=>#<Nyaplot::DataFrame:0x007fb8c134b530 @name=\"bdf26610-d398-4f23-b694-1f9c19771db2\", @rows=[{:data0=>\"I\", :data1=>25.0}, {:data0=>\"II\", :data1=>25.0}, {:data0=>\"III\", :data1=>50.0}]>}, :extension=>[]}>"
      ]
     },
     "metadata": {},
     "output_type": "display_data"
    }
   ],
   "source": [
    "bar_graph2_per.chart.x_label 'Categories'\n",
    "bar_graph2_per.chart.y_label 'Percentage (%)'\n",
    "bar_graph2_per.show_in_iruby"
   ]
  },
  {
   "cell_type": "markdown",
   "metadata": {},
   "source": [
    "#### 3. Fraction"
   ]
  },
  {
   "cell_type": "code",
   "execution_count": 14,
   "metadata": {
    "collapsed": false
   },
   "outputs": [
    {
     "data": {
      "text/plain": [
       "#<Daru::View::Plot:0x007fb8bfb4be58 @data=#<Daru::Vector(20):cataegory>\n",
       "   0 III\n",
       "   1 III\n",
       "   2 III\n",
       "   3 III\n",
       "   4 III\n",
       "   5 III\n",
       "   6 III\n",
       "   7 III\n",
       "   8 III\n",
       "   9 III\n",
       "  10  II\n",
       "  11  II\n",
       "  12  II\n",
       "  13  II\n",
       "  14  II\n",
       " ... ..., @options={:type=>:bar, :method=>:fraction}, @adapter=Daru::View::Adapter::NyaplotAdapter, @chart=#<Nyaplot::Plot:0x007fb8bfb4bde0 @properties={:diagrams=>[#<Nyaplot::Diagram:0x007fb8bfb4aaa8 @properties={:type=>:bar, :options=>{:x=>\"data0\", :y=>\"data1\"}, :data=>\"624041bd-e43e-4929-8758-6d1cab66af77\"}, @xrange=[\"I\", \"II\", \"III\"], @yrange=[0, 0.5]>], :options=>{:yrange=>[0, 1]}}>>"
      ]
     },
     "execution_count": 14,
     "metadata": {},
     "output_type": "execute_result"
    }
   ],
   "source": [
    "bar_graph2_frac = Daru::View::Plot.new(dv, type: :bar, method: :fraction)"
   ]
  },
  {
   "cell_type": "code",
   "execution_count": 15,
   "metadata": {
    "collapsed": false
   },
   "outputs": [
    {
     "data": {
      "text/html": [
       "<div id='vis-96a07eea-c963-42d5-ac1b-bae94dbde93b'></div>\n",
       "<script>\n",
       "(function(){\n",
       "    var render = function(){\n",
       "        var model = {\"panes\":[{\"diagrams\":[{\"type\":\"bar\",\"options\":{\"x\":\"data0\",\"y\":\"data1\"},\"data\":\"624041bd-e43e-4929-8758-6d1cab66af77\"}],\"options\":{\"yrange\":[0,1],\"y_label\":\"Fraction\",\"width\":700,\"xrange\":[\"I\",\"II\",\"III\"]}}],\"data\":{\"624041bd-e43e-4929-8758-6d1cab66af77\":[{\"data0\":\"I\",\"data1\":0.25},{\"data0\":\"II\",\"data1\":0.25},{\"data0\":\"III\",\"data1\":0.5}]},\"extension\":[]}\n",
       "        var id_name = '#vis-96a07eea-c963-42d5-ac1b-bae94dbde93b';\n",
       "        Nyaplot.core.parse(model, id_name);\n",
       "\n",
       "        require(['downloadable'], function(downloadable){\n",
       "          var svg = d3.select(id_name).select(\"svg\");\n",
       "\t  if(!svg.empty())\n",
       "\t    svg.call(downloadable().filename('fig'));\n",
       "\t});\n",
       "    };\n",
       "    if(window['Nyaplot']==undefined){\n",
       "        window.addEventListener('load_nyaplot', render, false);\n",
       "\treturn;\n",
       "    } else {\n",
       "       render();\n",
       "    }\n",
       "})();\n",
       "</script>\n"
      ],
      "text/plain": [
       "#<Nyaplot::Frame:0x007fb8c12f3f60 @properties={:panes=>[#<Nyaplot::Plot:0x007fb8bfb4bde0 @properties={:diagrams=>[#<Nyaplot::Diagram:0x007fb8bfb4aaa8 @properties={:type=>:bar, :options=>{:x=>\"data0\", :y=>\"data1\"}, :data=>\"624041bd-e43e-4929-8758-6d1cab66af77\"}, @xrange=[\"I\", \"II\", \"III\"], @yrange=[0, 0.5]>], :options=>{:yrange=>[0, 1], :y_label=>\"Fraction\", :width=>700, :xrange=>[\"I\", \"II\", \"III\"]}}>], :data=>{\"624041bd-e43e-4929-8758-6d1cab66af77\"=>#<Nyaplot::DataFrame:0x007fb8bfb4b0e8 @name=\"624041bd-e43e-4929-8758-6d1cab66af77\", @rows=[{:data0=>\"I\", :data1=>0.25}, {:data0=>\"II\", :data1=>0.25}, {:data0=>\"III\", :data1=>0.5}]>}, :extension=>[]}>"
      ]
     },
     "metadata": {},
     "output_type": "display_data"
    }
   ],
   "source": [
    "# bar_graph2_frac.chart.x_label 'Categories'\n",
    "bar_graph2_frac.chart.y_label 'Fraction'\n",
    "bar_graph2_frac.show_in_iruby"
   ]
  },
  {
   "cell_type": "markdown",
   "metadata": {},
   "source": [
    "# Categorical data visualization in Dataframe\n",
    "### Bar Graph"
   ]
  },
  {
   "cell_type": "code",
   "execution_count": 16,
   "metadata": {
    "collapsed": false
   },
   "outputs": [
    {
     "data": {
      "text/plain": [
       ":category"
      ]
     },
     "execution_count": 16,
     "metadata": {},
     "output_type": "execute_result"
    }
   ],
   "source": [
    "df = Daru::DataFrame.new({\n",
    "  a: [1, 2, 4, -2, 5, 23, 0],\n",
    "  b: [3, 1, 3, -6, 2, 1, 0],\n",
    "  c: ['I', 'II', 'I', 'III', 'I', 'III', 'II']\n",
    "  })\n",
    "df.to_category :c\n",
    "df[:c].type"
   ]
  },
  {
   "cell_type": "code",
   "execution_count": 17,
   "metadata": {
    "collapsed": false
   },
   "outputs": [
    {
     "data": {
      "text/plain": [
       "#<Daru::View::Plot:0x007fb8bfb40e68 @data=#<Daru::DataFrame(7x3)>\n",
       "       a   b   c\n",
       "   0   1   3   I\n",
       "   1   2   1  II\n",
       "   2   4   3   I\n",
       "   3  -2  -6 III\n",
       "   4   5   2   I\n",
       "   5  23   1 III\n",
       "   6   0   0  II, @options={:type=>:bar, :x=>:c}, @adapter=Daru::View::Adapter::NyaplotAdapter, @chart=#<Nyaplot::Plot:0x007fb8bfb3bf30 @properties={:diagrams=>[#<Nyaplot::Diagram:0x007fb8bfb2afc8 @properties={:type=>:bar, :options=>{:value=>:c}, :data=>\"29e33b4c-787c-49da-b507-be74402ff5ab\"}, @xrange=[\"I\", \"II\", \"III\"], @yrange=[0, 7]>], :options=>{}}>>"
      ]
     },
     "execution_count": 17,
     "metadata": {},
     "output_type": "execute_result"
    }
   ],
   "source": [
    "bar_graph3 = Daru::View::Plot.new(df, type: :bar, x: :c)"
   ]
  },
  {
   "cell_type": "code",
   "execution_count": 18,
   "metadata": {
    "collapsed": false
   },
   "outputs": [
    {
     "data": {
      "text/html": [
       "<div id='vis-afbdd5de-22e2-4908-9a76-2e8414594fed'></div>\n",
       "<script>\n",
       "(function(){\n",
       "    var render = function(){\n",
       "        var model = {\"panes\":[{\"diagrams\":[{\"type\":\"bar\",\"options\":{\"value\":\"c\"},\"data\":\"29e33b4c-787c-49da-b507-be74402ff5ab\"}],\"options\":{\"width\":700,\"xrange\":[\"I\",\"II\",\"III\"],\"yrange\":[0,7]}}],\"data\":{\"29e33b4c-787c-49da-b507-be74402ff5ab\":[{\"a\":1,\"b\":3,\"c\":\"I\"},{\"a\":2,\"b\":1,\"c\":\"II\"},{\"a\":4,\"b\":3,\"c\":\"I\"},{\"a\":-2,\"b\":-6,\"c\":\"III\"},{\"a\":5,\"b\":2,\"c\":\"I\"},{\"a\":23,\"b\":1,\"c\":\"III\"},{\"a\":0,\"b\":0,\"c\":\"II\"}]},\"extension\":[]}\n",
       "        var id_name = '#vis-afbdd5de-22e2-4908-9a76-2e8414594fed';\n",
       "        Nyaplot.core.parse(model, id_name);\n",
       "\n",
       "        require(['downloadable'], function(downloadable){\n",
       "          var svg = d3.select(id_name).select(\"svg\");\n",
       "\t  if(!svg.empty())\n",
       "\t    svg.call(downloadable().filename('fig'));\n",
       "\t});\n",
       "    };\n",
       "    if(window['Nyaplot']==undefined){\n",
       "        window.addEventListener('load_nyaplot', render, false);\n",
       "\treturn;\n",
       "    } else {\n",
       "       render();\n",
       "    }\n",
       "})();\n",
       "</script>\n"
      ],
      "text/plain": [
       "#<Nyaplot::Frame:0x007fb8bfafa328 @properties={:panes=>[#<Nyaplot::Plot:0x007fb8bfb3bf30 @properties={:diagrams=>[#<Nyaplot::Diagram:0x007fb8bfb2afc8 @properties={:type=>:bar, :options=>{:value=>:c}, :data=>\"29e33b4c-787c-49da-b507-be74402ff5ab\"}, @xrange=[\"I\", \"II\", \"III\"], @yrange=[0, 7]>], :options=>{:width=>700, :xrange=>[\"I\", \"II\", \"III\"], :yrange=>[0, 7]}}>], :data=>{\"29e33b4c-787c-49da-b507-be74402ff5ab\"=>#<Nyaplot::DataFrame:0x007fb8bfb2b630 @name=\"29e33b4c-787c-49da-b507-be74402ff5ab\", @rows=[{:a=>1, :b=>3, :c=>\"I\"}, {:a=>2, :b=>1, :c=>\"II\"}, {:a=>4, :b=>3, :c=>\"I\"}, {:a=>-2, :b=>-6, :c=>\"III\"}, {:a=>5, :b=>2, :c=>\"I\"}, {:a=>23, :b=>1, :c=>\"III\"}, {:a=>0, :b=>0, :c=>\"II\"}]>}, :extension=>[]}>"
      ]
     },
     "metadata": {},
     "output_type": "display_data"
    }
   ],
   "source": [
    "bar_graph3.show_in_iruby"
   ]
  },
  {
   "cell_type": "markdown",
   "metadata": {},
   "source": [
    "### Scatter plot categorized by categorical variable¶\n",
    "#### Plots can be categorized by\n",
    "\n",
    "- Color\n",
    "- Size\n",
    "- Shape"
   ]
  },
  {
   "cell_type": "code",
   "execution_count": 19,
   "metadata": {
    "collapsed": false
   },
   "outputs": [
    {
     "data": {
      "text/plain": [
       ":category"
      ]
     },
     "execution_count": 19,
     "metadata": {},
     "output_type": "execute_result"
    }
   ],
   "source": [
    "df = Daru::DataFrame.new({\n",
    "  a: [1, 2, 4, -2, 5, 23, 0],\n",
    "  b: [3, 1, 3, -6, 2, 1, 0],\n",
    "  c: ['I', 'II', 'I', 'III', 'I', 'III', 'II']\n",
    "  })\n",
    "df.to_category :c\n",
    "df[:c].type"
   ]
  },
  {
   "cell_type": "code",
   "execution_count": 20,
   "metadata": {
    "collapsed": false
   },
   "outputs": [
    {
     "data": {
      "text/plain": [
       "#<Daru::View::Plot:0x007fb8c034d908 @data=#<Daru::DataFrame(7x3)>\n",
       "       a   b   c\n",
       "   0   1   3   I\n",
       "   1   2   1  II\n",
       "   2   4   3   I\n",
       "   3  -2  -6 III\n",
       "   4   5   2   I\n",
       "   5  23   1 III\n",
       "   6   0   0  II, @options={:type=>:scatter, :x=>:a, :y=>:b, :categorized=>{:by=>:c, :method=>:color}}, @adapter=Daru::View::Adapter::NyaplotAdapter, @chart=#<Nyaplot::Plot:0x007fb8c034d818 @properties={:diagrams=>[#<Nyaplot::Diagram:0x007fb8c033e200 @properties={:type=>:scatter, :options=>{:x=>:a, :y=>:b, :title=>\"I\", :color=>\"rgb(228,26,28)\", :tooltip_contents=>[\"I\", \"I\", \"I\"]}, :data=>\"10d5f113-5000-4f63-bf20-a9e93adb5662\"}, @xrange=[1, 5], @yrange=[2, 3]>, #<Nyaplot::Diagram:0x007fb8c03344f8 @properties={:type=>:scatter, :options=>{:x=>:a, :y=>:b, :title=>\"II\", :color=>\"rgb(55,126,184)\", :tooltip_contents=>[\"II\", \"II\"]}, :data=>\"eaf102bb-ef6c-4354-a155-a36876d91b17\"}, @xrange=[0, 2], @yrange=[0, 1]>, #<Nyaplot::Diagram:0x007fb8c0326c68 @properties={:type=>:scatter, :options=>{:x=>:a, :y=>:b, :title=>\"III\", :color=>\"rgb(77,175,74)\", :tooltip_contents=>[\"III\", \"III\"]}, :data=>\"4e1ff8e7-0d9b-473c-8ff3-a3677db44fe5\"}, @xrange=[-2, 23], @yrange=[-6, 1]>], :options=>{:legend=>true}}>>"
      ]
     },
     "execution_count": 20,
     "metadata": {},
     "output_type": "execute_result"
    }
   ],
   "source": [
    "scatter_1 = Daru::View::Plot.new(df, type: :scatter, x: :a, y: :b, categorized: {by: :c, method: :color})"
   ]
  },
  {
   "cell_type": "code",
   "execution_count": 21,
   "metadata": {
    "collapsed": false,
    "scrolled": true
   },
   "outputs": [
    {
     "data": {
      "text/html": [
       "<div id='vis-9c213fb2-22f2-4d8c-905b-b6c24c717718'></div>\n",
       "<script>\n",
       "(function(){\n",
       "    var render = function(){\n",
       "        var model = {\"panes\":[{\"diagrams\":[{\"type\":\"scatter\",\"options\":{\"x\":\"a\",\"y\":\"b\",\"title\":\"I\",\"color\":\"rgb(228,26,28)\",\"tooltip_contents\":[\"I\",\"I\",\"I\"]},\"data\":\"10d5f113-5000-4f63-bf20-a9e93adb5662\"},{\"type\":\"scatter\",\"options\":{\"x\":\"a\",\"y\":\"b\",\"title\":\"II\",\"color\":\"rgb(55,126,184)\",\"tooltip_contents\":[\"II\",\"II\"]},\"data\":\"eaf102bb-ef6c-4354-a155-a36876d91b17\"},{\"type\":\"scatter\",\"options\":{\"x\":\"a\",\"y\":\"b\",\"title\":\"III\",\"color\":\"rgb(77,175,74)\",\"tooltip_contents\":[\"III\",\"III\"]},\"data\":\"4e1ff8e7-0d9b-473c-8ff3-a3677db44fe5\"}],\"options\":{\"legend\":true,\"zoom\":true,\"width\":800,\"xrange\":[-2,23],\"yrange\":[-6,3]}}],\"data\":{\"10d5f113-5000-4f63-bf20-a9e93adb5662\":[{\"a\":1,\"b\":3},{\"a\":4,\"b\":3},{\"a\":5,\"b\":2}],\"eaf102bb-ef6c-4354-a155-a36876d91b17\":[{\"a\":2,\"b\":1},{\"a\":0,\"b\":0}],\"4e1ff8e7-0d9b-473c-8ff3-a3677db44fe5\":[{\"a\":-2,\"b\":-6},{\"a\":23,\"b\":1}]},\"extension\":[]}\n",
       "        var id_name = '#vis-9c213fb2-22f2-4d8c-905b-b6c24c717718';\n",
       "        Nyaplot.core.parse(model, id_name);\n",
       "\n",
       "        require(['downloadable'], function(downloadable){\n",
       "          var svg = d3.select(id_name).select(\"svg\");\n",
       "\t  if(!svg.empty())\n",
       "\t    svg.call(downloadable().filename('fig'));\n",
       "\t});\n",
       "    };\n",
       "    if(window['Nyaplot']==undefined){\n",
       "        window.addEventListener('load_nyaplot', render, false);\n",
       "\treturn;\n",
       "    } else {\n",
       "       render();\n",
       "    }\n",
       "})();\n",
       "</script>\n"
      ],
      "text/plain": [
       "#<Nyaplot::Frame:0x007fb8c02a52a8 @properties={:panes=>[#<Nyaplot::Plot:0x007fb8c034d818 @properties={:diagrams=>[#<Nyaplot::Diagram:0x007fb8c033e200 @properties={:type=>:scatter, :options=>{:x=>:a, :y=>:b, :title=>\"I\", :color=>\"rgb(228,26,28)\", :tooltip_contents=>[\"I\", \"I\", \"I\"]}, :data=>\"10d5f113-5000-4f63-bf20-a9e93adb5662\"}, @xrange=[1, 5], @yrange=[2, 3]>, #<Nyaplot::Diagram:0x007fb8c03344f8 @properties={:type=>:scatter, :options=>{:x=>:a, :y=>:b, :title=>\"II\", :color=>\"rgb(55,126,184)\", :tooltip_contents=>[\"II\", \"II\"]}, :data=>\"eaf102bb-ef6c-4354-a155-a36876d91b17\"}, @xrange=[0, 2], @yrange=[0, 1]>, #<Nyaplot::Diagram:0x007fb8c0326c68 @properties={:type=>:scatter, :options=>{:x=>:a, :y=>:b, :title=>\"III\", :color=>\"rgb(77,175,74)\", :tooltip_contents=>[\"III\", \"III\"]}, :data=>\"4e1ff8e7-0d9b-473c-8ff3-a3677db44fe5\"}, @xrange=[-2, 23], @yrange=[-6, 1]>], :options=>{:legend=>true, :zoom=>true, :width=>800, :xrange=>[-2, 23], :yrange=>[-6, 3]}}>], :data=>{\"10d5f113-5000-4f63-bf20-a9e93adb5662\"=>#<Nyaplot::DataFrame:0x007fb8c033e5c0 @name=\"10d5f113-5000-4f63-bf20-a9e93adb5662\", @rows=[{:a=>1, :b=>3}, {:a=>4, :b=>3}, {:a=>5, :b=>2}]>, \"eaf102bb-ef6c-4354-a155-a36876d91b17\"=>#<Nyaplot::DataFrame:0x007fb8c0335178 @name=\"eaf102bb-ef6c-4354-a155-a36876d91b17\", @rows=[{:a=>2, :b=>1}, {:a=>0, :b=>0}]>, \"4e1ff8e7-0d9b-473c-8ff3-a3677db44fe5\"=>#<Nyaplot::DataFrame:0x007fb8c0327500 @name=\"4e1ff8e7-0d9b-473c-8ff3-a3677db44fe5\", @rows=[{:a=>-2, :b=>-6}, {:a=>23, :b=>1}]>}, :extension=>[]}>"
      ]
     },
     "metadata": {},
     "output_type": "display_data"
    }
   ],
   "source": [
    "scatter_1.show_in_iruby"
   ]
  },
  {
   "cell_type": "code",
   "execution_count": 22,
   "metadata": {
    "collapsed": false
   },
   "outputs": [
    {
     "data": {
      "text/html": [
       "<div id='vis-a57c4a5d-7bb5-48c1-9d67-a15159b2499e'></div>\n",
       "<script>\n",
       "(function(){\n",
       "    var render = function(){\n",
       "        var model = {\"panes\":[{\"diagrams\":[{\"type\":\"scatter\",\"options\":{\"x\":\"a\",\"y\":\"b\",\"title\":\"I\",\"color\":\"rgb(228,26,28)\",\"tooltip_contents\":[\"I\",\"I\",\"I\"]},\"data\":\"10d5f113-5000-4f63-bf20-a9e93adb5662\"},{\"type\":\"scatter\",\"options\":{\"x\":\"a\",\"y\":\"b\",\"title\":\"II\",\"color\":\"rgb(55,126,184)\",\"tooltip_contents\":[\"II\",\"II\"]},\"data\":\"eaf102bb-ef6c-4354-a155-a36876d91b17\"},{\"type\":\"scatter\",\"options\":{\"x\":\"a\",\"y\":\"b\",\"title\":\"III\",\"color\":\"rgb(77,175,74)\",\"tooltip_contents\":[\"III\",\"III\"]},\"data\":\"4e1ff8e7-0d9b-473c-8ff3-a3677db44fe5\"}],\"options\":{\"legend\":true,\"zoom\":true,\"width\":800,\"xrange\":[-10,10],\"yrange\":[-10,10]}}],\"data\":{\"10d5f113-5000-4f63-bf20-a9e93adb5662\":[{\"a\":1,\"b\":3},{\"a\":4,\"b\":3},{\"a\":5,\"b\":2}],\"eaf102bb-ef6c-4354-a155-a36876d91b17\":[{\"a\":2,\"b\":1},{\"a\":0,\"b\":0}],\"4e1ff8e7-0d9b-473c-8ff3-a3677db44fe5\":[{\"a\":-2,\"b\":-6},{\"a\":23,\"b\":1}]},\"extension\":[]}\n",
       "        var id_name = '#vis-a57c4a5d-7bb5-48c1-9d67-a15159b2499e';\n",
       "        Nyaplot.core.parse(model, id_name);\n",
       "\n",
       "        require(['downloadable'], function(downloadable){\n",
       "          var svg = d3.select(id_name).select(\"svg\");\n",
       "\t  if(!svg.empty())\n",
       "\t    svg.call(downloadable().filename('fig'));\n",
       "\t});\n",
       "    };\n",
       "    if(window['Nyaplot']==undefined){\n",
       "        window.addEventListener('load_nyaplot', render, false);\n",
       "\treturn;\n",
       "    } else {\n",
       "       render();\n",
       "    }\n",
       "})();\n",
       "</script>\n"
      ],
      "text/plain": [
       "#<Nyaplot::Plot:0x007fb8c034d818 @properties={:diagrams=>[#<Nyaplot::Diagram:0x007fb8c033e200 @properties={:type=>:scatter, :options=>{:x=>:a, :y=>:b, :title=>\"I\", :color=>\"rgb(228,26,28)\", :tooltip_contents=>[\"I\", \"I\", \"I\"]}, :data=>\"10d5f113-5000-4f63-bf20-a9e93adb5662\"}, @xrange=[1, 5], @yrange=[2, 3]>, #<Nyaplot::Diagram:0x007fb8c03344f8 @properties={:type=>:scatter, :options=>{:x=>:a, :y=>:b, :title=>\"II\", :color=>\"rgb(55,126,184)\", :tooltip_contents=>[\"II\", \"II\"]}, :data=>\"eaf102bb-ef6c-4354-a155-a36876d91b17\"}, @xrange=[0, 2], @yrange=[0, 1]>, #<Nyaplot::Diagram:0x007fb8c0326c68 @properties={:type=>:scatter, :options=>{:x=>:a, :y=>:b, :title=>\"III\", :color=>\"rgb(77,175,74)\", :tooltip_contents=>[\"III\", \"III\"]}, :data=>\"4e1ff8e7-0d9b-473c-8ff3-a3677db44fe5\"}, @xrange=[-2, 23], @yrange=[-6, 1]>], :options=>{:legend=>true, :zoom=>true, :width=>800, :xrange=>[-10, 10], :yrange=>[-10, 10]}}>"
      ]
     },
     "execution_count": 22,
     "metadata": {},
     "output_type": "execute_result"
    }
   ],
   "source": [
    "scatter_1.chart.xrange [-10, 10]\n",
    "scatter_1.chart.yrange [-10, 10]"
   ]
  },
  {
   "cell_type": "code",
   "execution_count": 23,
   "metadata": {
    "collapsed": false
   },
   "outputs": [
    {
     "data": {
      "text/html": [
       "<div id='vis-d62e37de-8a92-471f-a071-60f3232e0797'></div>\n",
       "<script>\n",
       "(function(){\n",
       "    var render = function(){\n",
       "        var model = {\"panes\":[{\"diagrams\":[{\"type\":\"scatter\",\"options\":{\"x\":\"a\",\"y\":\"b\",\"title\":\"I\",\"shape\":\"circle\",\"tooltip_contents\":[\"I\",\"I\",\"I\"]},\"data\":\"87e2e891-f6c7-421c-8384-dfb6d013a94d\"},{\"type\":\"scatter\",\"options\":{\"x\":\"a\",\"y\":\"b\",\"title\":\"II\",\"shape\":\"triangle-up\",\"tooltip_contents\":[\"II\",\"II\"]},\"data\":\"9810606c-6368-49da-95ba-69cd555a7ba9\"},{\"type\":\"scatter\",\"options\":{\"x\":\"a\",\"y\":\"b\",\"title\":\"III\",\"shape\":\"diamond\",\"tooltip_contents\":[\"III\",\"III\"]},\"data\":\"7ebd1a6d-f0d8-4ade-bb05-23f8f49e015c\"}],\"options\":{\"legend\":true,\"zoom\":true,\"width\":800,\"xrange\":[-2,23],\"yrange\":[-6,3]}}],\"data\":{\"87e2e891-f6c7-421c-8384-dfb6d013a94d\":[{\"a\":1,\"b\":3},{\"a\":4,\"b\":3},{\"a\":5,\"b\":2}],\"9810606c-6368-49da-95ba-69cd555a7ba9\":[{\"a\":2,\"b\":1},{\"a\":0,\"b\":0}],\"7ebd1a6d-f0d8-4ade-bb05-23f8f49e015c\":[{\"a\":-2,\"b\":-6},{\"a\":23,\"b\":1}]},\"extension\":[]}\n",
       "        var id_name = '#vis-d62e37de-8a92-471f-a071-60f3232e0797';\n",
       "        Nyaplot.core.parse(model, id_name);\n",
       "\n",
       "        require(['downloadable'], function(downloadable){\n",
       "          var svg = d3.select(id_name).select(\"svg\");\n",
       "\t  if(!svg.empty())\n",
       "\t    svg.call(downloadable().filename('fig'));\n",
       "\t});\n",
       "    };\n",
       "    if(window['Nyaplot']==undefined){\n",
       "        window.addEventListener('load_nyaplot', render, false);\n",
       "\treturn;\n",
       "    } else {\n",
       "       render();\n",
       "    }\n",
       "})();\n",
       "</script>\n"
      ],
      "text/plain": [
       "#<Nyaplot::Frame:0x007fb8c0a0dea0 @properties={:panes=>[#<Nyaplot::Plot:0x007fb8c126b778 @properties={:diagrams=>[#<Nyaplot::Diagram:0x007fb8bfad04d8 @properties={:type=>:scatter, :options=>{:x=>:a, :y=>:b, :title=>\"I\", :shape=>\"circle\", :tooltip_contents=>[\"I\", \"I\", \"I\"]}, :data=>\"87e2e891-f6c7-421c-8384-dfb6d013a94d\"}, @xrange=[1, 5], @yrange=[2, 3]>, #<Nyaplot::Diagram:0x007fb8c0256428 @properties={:type=>:scatter, :options=>{:x=>:a, :y=>:b, :title=>\"II\", :shape=>\"triangle-up\", :tooltip_contents=>[\"II\", \"II\"]}, :data=>\"9810606c-6368-49da-95ba-69cd555a7ba9\"}, @xrange=[0, 2], @yrange=[0, 1]>, #<Nyaplot::Diagram:0x007fb8c0a0f660 @properties={:type=>:scatter, :options=>{:x=>:a, :y=>:b, :title=>\"III\", :shape=>\"diamond\", :tooltip_contents=>[\"III\", \"III\"]}, :data=>\"7ebd1a6d-f0d8-4ade-bb05-23f8f49e015c\"}, @xrange=[-2, 23], @yrange=[-6, 1]>], :options=>{:legend=>true, :zoom=>true, :width=>800, :xrange=>[-2, 23], :yrange=>[-6, 3]}}>], :data=>{\"87e2e891-f6c7-421c-8384-dfb6d013a94d\"=>#<Nyaplot::DataFrame:0x007fb8bfad0b40 @name=\"87e2e891-f6c7-421c-8384-dfb6d013a94d\", @rows=[{:a=>1, :b=>3}, {:a=>4, :b=>3}, {:a=>5, :b=>2}]>, \"9810606c-6368-49da-95ba-69cd555a7ba9\"=>#<Nyaplot::DataFrame:0x007fb8c02567e8 @name=\"9810606c-6368-49da-95ba-69cd555a7ba9\", @rows=[{:a=>2, :b=>1}, {:a=>0, :b=>0}]>, \"7ebd1a6d-f0d8-4ade-bb05-23f8f49e015c\"=>#<Nyaplot::DataFrame:0x007fb8c0a0fbd8 @name=\"7ebd1a6d-f0d8-4ade-bb05-23f8f49e015c\", @rows=[{:a=>-2, :b=>-6}, {:a=>23, :b=>1}]>}, :extension=>[]}>"
      ]
     },
     "metadata": {},
     "output_type": "display_data"
    }
   ],
   "source": [
    "scatter_2 = Daru::View::Plot.new(df, type: :scatter, x: :a, y: :b, categorized: {by: :c, method: :shape})\n",
    "scatter_2.show_in_iruby"
   ]
  },
  {
   "cell_type": "code",
   "execution_count": 24,
   "metadata": {
    "collapsed": false
   },
   "outputs": [
    {
     "data": {
      "text/html": [
       "<div id='vis-c66feb34-d4f3-4a4e-a4e5-7ce9387b1fa3'></div>\n",
       "<script>\n",
       "(function(){\n",
       "    var render = function(){\n",
       "        var model = {\"panes\":[{\"diagrams\":[{\"type\":\"scatter\",\"options\":{\"x\":\"a\",\"y\":\"b\",\"title\":\"I\",\"shape\":\"circle\",\"tooltip_contents\":[\"I\",\"I\",\"I\"]},\"data\":\"87e2e891-f6c7-421c-8384-dfb6d013a94d\"},{\"type\":\"scatter\",\"options\":{\"x\":\"a\",\"y\":\"b\",\"title\":\"II\",\"shape\":\"triangle-up\",\"tooltip_contents\":[\"II\",\"II\"]},\"data\":\"9810606c-6368-49da-95ba-69cd555a7ba9\"},{\"type\":\"scatter\",\"options\":{\"x\":\"a\",\"y\":\"b\",\"title\":\"III\",\"shape\":\"diamond\",\"tooltip_contents\":[\"III\",\"III\"]},\"data\":\"7ebd1a6d-f0d8-4ade-bb05-23f8f49e015c\"}],\"options\":{\"legend\":true,\"zoom\":true,\"width\":800,\"xrange\":[-10,10],\"yrange\":[-10,10]}}],\"data\":{\"87e2e891-f6c7-421c-8384-dfb6d013a94d\":[{\"a\":1,\"b\":3},{\"a\":4,\"b\":3},{\"a\":5,\"b\":2}],\"9810606c-6368-49da-95ba-69cd555a7ba9\":[{\"a\":2,\"b\":1},{\"a\":0,\"b\":0}],\"7ebd1a6d-f0d8-4ade-bb05-23f8f49e015c\":[{\"a\":-2,\"b\":-6},{\"a\":23,\"b\":1}]},\"extension\":[]}\n",
       "        var id_name = '#vis-c66feb34-d4f3-4a4e-a4e5-7ce9387b1fa3';\n",
       "        Nyaplot.core.parse(model, id_name);\n",
       "\n",
       "        require(['downloadable'], function(downloadable){\n",
       "          var svg = d3.select(id_name).select(\"svg\");\n",
       "\t  if(!svg.empty())\n",
       "\t    svg.call(downloadable().filename('fig'));\n",
       "\t});\n",
       "    };\n",
       "    if(window['Nyaplot']==undefined){\n",
       "        window.addEventListener('load_nyaplot', render, false);\n",
       "\treturn;\n",
       "    } else {\n",
       "       render();\n",
       "    }\n",
       "})();\n",
       "</script>\n"
      ],
      "text/plain": [
       "#<Nyaplot::Plot:0x007fb8c126b778 @properties={:diagrams=>[#<Nyaplot::Diagram:0x007fb8bfad04d8 @properties={:type=>:scatter, :options=>{:x=>:a, :y=>:b, :title=>\"I\", :shape=>\"circle\", :tooltip_contents=>[\"I\", \"I\", \"I\"]}, :data=>\"87e2e891-f6c7-421c-8384-dfb6d013a94d\"}, @xrange=[1, 5], @yrange=[2, 3]>, #<Nyaplot::Diagram:0x007fb8c0256428 @properties={:type=>:scatter, :options=>{:x=>:a, :y=>:b, :title=>\"II\", :shape=>\"triangle-up\", :tooltip_contents=>[\"II\", \"II\"]}, :data=>\"9810606c-6368-49da-95ba-69cd555a7ba9\"}, @xrange=[0, 2], @yrange=[0, 1]>, #<Nyaplot::Diagram:0x007fb8c0a0f660 @properties={:type=>:scatter, :options=>{:x=>:a, :y=>:b, :title=>\"III\", :shape=>\"diamond\", :tooltip_contents=>[\"III\", \"III\"]}, :data=>\"7ebd1a6d-f0d8-4ade-bb05-23f8f49e015c\"}, @xrange=[-2, 23], @yrange=[-6, 1]>], :options=>{:legend=>true, :zoom=>true, :width=>800, :xrange=>[-10, 10], :yrange=>[-10, 10]}}>"
      ]
     },
     "execution_count": 24,
     "metadata": {},
     "output_type": "execute_result"
    }
   ],
   "source": [
    "scatter_2.chart.xrange [-10, 10]\n",
    "scatter_2.chart.yrange [-10, 10]"
   ]
  },
  {
   "cell_type": "code",
   "execution_count": 25,
   "metadata": {
    "collapsed": false
   },
   "outputs": [
    {
     "data": {
      "text/html": [
       "<div id='vis-8603531d-6260-43c0-944a-3949d7e65957'></div>\n",
       "<script>\n",
       "(function(){\n",
       "    var render = function(){\n",
       "        var model = {\"panes\":[{\"diagrams\":[{\"type\":\"scatter\",\"options\":{\"x\":\"a\",\"y\":\"b\",\"title\":\"I\",\"color\":\"red\",\"tooltip_contents\":[\"I\",\"I\",\"I\"]},\"data\":\"6313ac78-92e6-45f3-bf31-1755956b89f4\"},{\"type\":\"scatter\",\"options\":{\"x\":\"a\",\"y\":\"b\",\"title\":\"II\",\"color\":\"blue\",\"tooltip_contents\":[\"II\",\"II\"]},\"data\":\"6bd815ee-32be-4406-a1b8-0ec973bc9f30\"},{\"type\":\"scatter\",\"options\":{\"x\":\"a\",\"y\":\"b\",\"title\":\"III\",\"color\":\"green\",\"tooltip_contents\":[\"III\",\"III\"]},\"data\":\"ad9edb3b-24bb-4ebb-9b68-37013afb86a7\"}],\"options\":{\"legend\":true,\"zoom\":true,\"width\":800,\"xrange\":[-2,23],\"yrange\":[-6,3]}}],\"data\":{\"6313ac78-92e6-45f3-bf31-1755956b89f4\":[{\"a\":1,\"b\":3},{\"a\":4,\"b\":3},{\"a\":5,\"b\":2}],\"6bd815ee-32be-4406-a1b8-0ec973bc9f30\":[{\"a\":2,\"b\":1},{\"a\":0,\"b\":0}],\"ad9edb3b-24bb-4ebb-9b68-37013afb86a7\":[{\"a\":-2,\"b\":-6},{\"a\":23,\"b\":1}]},\"extension\":[]}\n",
       "        var id_name = '#vis-8603531d-6260-43c0-944a-3949d7e65957';\n",
       "        Nyaplot.core.parse(model, id_name);\n",
       "\n",
       "        require(['downloadable'], function(downloadable){\n",
       "          var svg = d3.select(id_name).select(\"svg\");\n",
       "\t  if(!svg.empty())\n",
       "\t    svg.call(downloadable().filename('fig'));\n",
       "\t});\n",
       "    };\n",
       "    if(window['Nyaplot']==undefined){\n",
       "        window.addEventListener('load_nyaplot', render, false);\n",
       "\treturn;\n",
       "    } else {\n",
       "       render();\n",
       "    }\n",
       "})();\n",
       "</script>\n"
      ],
      "text/plain": [
       "#<Nyaplot::Frame:0x007fb8c1251300 @properties={:panes=>[#<Nyaplot::Plot:0x007fb8c0207f08 @properties={:diagrams=>[#<Nyaplot::Diagram:0x007fb8c01fc540 @properties={:type=>:scatter, :options=>{:x=>:a, :y=>:b, :title=>\"I\", :color=>:red, :tooltip_contents=>[\"I\", \"I\", \"I\"]}, :data=>\"6313ac78-92e6-45f3-bf31-1755956b89f4\"}, @xrange=[1, 5], @yrange=[2, 3]>, #<Nyaplot::Diagram:0x007fb8c125afb8 @properties={:type=>:scatter, :options=>{:x=>:a, :y=>:b, :title=>\"II\", :color=>:blue, :tooltip_contents=>[\"II\", \"II\"]}, :data=>\"6bd815ee-32be-4406-a1b8-0ec973bc9f30\"}, @xrange=[0, 2], @yrange=[0, 1]>, #<Nyaplot::Diagram:0x007fb8c1252250 @properties={:type=>:scatter, :options=>{:x=>:a, :y=>:b, :title=>\"III\", :color=>:green, :tooltip_contents=>[\"III\", \"III\"]}, :data=>\"ad9edb3b-24bb-4ebb-9b68-37013afb86a7\"}, @xrange=[-2, 23], @yrange=[-6, 1]>], :options=>{:legend=>true, :zoom=>true, :width=>800, :xrange=>[-2, 23], :yrange=>[-6, 3]}}>], :data=>{\"6313ac78-92e6-45f3-bf31-1755956b89f4\"=>#<Nyaplot::DataFrame:0x007fb8c01fd148 @name=\"6313ac78-92e6-45f3-bf31-1755956b89f4\", @rows=[{:a=>1, :b=>3}, {:a=>4, :b=>3}, {:a=>5, :b=>2}]>, \"6bd815ee-32be-4406-a1b8-0ec973bc9f30\"=>#<Nyaplot::DataFrame:0x007fb8c125b328 @name=\"6bd815ee-32be-4406-a1b8-0ec973bc9f30\", @rows=[{:a=>2, :b=>1}, {:a=>0, :b=>0}]>, \"ad9edb3b-24bb-4ebb-9b68-37013afb86a7\"=>#<Nyaplot::DataFrame:0x007fb8c12525c0 @name=\"ad9edb3b-24bb-4ebb-9b68-37013afb86a7\", @rows=[{:a=>-2, :b=>-6}, {:a=>23, :b=>1}]>}, :extension=>[]}>"
      ]
     },
     "metadata": {},
     "output_type": "display_data"
    },
    {
     "data": {
      "text/html": [
       "<div id='vis-2465e119-f529-41c5-a829-c2e70f8b39f7'></div>\n",
       "<script>\n",
       "(function(){\n",
       "    var render = function(){\n",
       "        var model = {\"panes\":[{\"diagrams\":[{\"type\":\"scatter\",\"options\":{\"x\":\"a\",\"y\":\"b\",\"title\":\"I\",\"shape\":\"circle\",\"tooltip_contents\":[\"I\",\"I\",\"I\"]},\"data\":\"87e2e891-f6c7-421c-8384-dfb6d013a94d\"},{\"type\":\"scatter\",\"options\":{\"x\":\"a\",\"y\":\"b\",\"title\":\"II\",\"shape\":\"triangle-up\",\"tooltip_contents\":[\"II\",\"II\"]},\"data\":\"9810606c-6368-49da-95ba-69cd555a7ba9\"},{\"type\":\"scatter\",\"options\":{\"x\":\"a\",\"y\":\"b\",\"title\":\"III\",\"shape\":\"diamond\",\"tooltip_contents\":[\"III\",\"III\"]},\"data\":\"7ebd1a6d-f0d8-4ade-bb05-23f8f49e015c\"}],\"options\":{\"legend\":true,\"zoom\":true,\"width\":800,\"xrange\":[-10,10],\"yrange\":[-10,10]}}],\"data\":{\"87e2e891-f6c7-421c-8384-dfb6d013a94d\":[{\"a\":1,\"b\":3},{\"a\":4,\"b\":3},{\"a\":5,\"b\":2}],\"9810606c-6368-49da-95ba-69cd555a7ba9\":[{\"a\":2,\"b\":1},{\"a\":0,\"b\":0}],\"7ebd1a6d-f0d8-4ade-bb05-23f8f49e015c\":[{\"a\":-2,\"b\":-6},{\"a\":23,\"b\":1}]},\"extension\":[]}\n",
       "        var id_name = '#vis-2465e119-f529-41c5-a829-c2e70f8b39f7';\n",
       "        Nyaplot.core.parse(model, id_name);\n",
       "\n",
       "        require(['downloadable'], function(downloadable){\n",
       "          var svg = d3.select(id_name).select(\"svg\");\n",
       "\t  if(!svg.empty())\n",
       "\t    svg.call(downloadable().filename('fig'));\n",
       "\t});\n",
       "    };\n",
       "    if(window['Nyaplot']==undefined){\n",
       "        window.addEventListener('load_nyaplot', render, false);\n",
       "\treturn;\n",
       "    } else {\n",
       "       render();\n",
       "    }\n",
       "})();\n",
       "</script>\n"
      ],
      "text/plain": [
       "#<Nyaplot::Plot:0x007fb8c126b778 @properties={:diagrams=>[#<Nyaplot::Diagram:0x007fb8bfad04d8 @properties={:type=>:scatter, :options=>{:x=>:a, :y=>:b, :title=>\"I\", :shape=>\"circle\", :tooltip_contents=>[\"I\", \"I\", \"I\"]}, :data=>\"87e2e891-f6c7-421c-8384-dfb6d013a94d\"}, @xrange=[1, 5], @yrange=[2, 3]>, #<Nyaplot::Diagram:0x007fb8c0256428 @properties={:type=>:scatter, :options=>{:x=>:a, :y=>:b, :title=>\"II\", :shape=>\"triangle-up\", :tooltip_contents=>[\"II\", \"II\"]}, :data=>\"9810606c-6368-49da-95ba-69cd555a7ba9\"}, @xrange=[0, 2], @yrange=[0, 1]>, #<Nyaplot::Diagram:0x007fb8c0a0f660 @properties={:type=>:scatter, :options=>{:x=>:a, :y=>:b, :title=>\"III\", :shape=>\"diamond\", :tooltip_contents=>[\"III\", \"III\"]}, :data=>\"7ebd1a6d-f0d8-4ade-bb05-23f8f49e015c\"}, @xrange=[-2, 23], @yrange=[-6, 1]>], :options=>{:legend=>true, :zoom=>true, :width=>800, :xrange=>[-10, 10], :yrange=>[-10, 10]}}>"
      ]
     },
     "execution_count": 25,
     "metadata": {},
     "output_type": "execute_result"
    }
   ],
   "source": [
    "scatter_3 = Daru::View::Plot.new(df, type: :scatter, x: :a, y: :b, categorized: {by: :c, method: :color, color: [:red, :blue, :green]})\n",
    "scatter_3.show_in_iruby\n",
    "scatter_2.chart.xrange [-10, 10]\n",
    "scatter_2.chart.yrange [-10, 10]"
   ]
  },
  {
   "cell_type": "code",
   "execution_count": 26,
   "metadata": {
    "collapsed": false
   },
   "outputs": [
    {
     "data": {
      "text/html": [
       "<div id='vis-1e717fc0-4e42-4543-b0f6-60897c929fae'></div>\n",
       "<script>\n",
       "(function(){\n",
       "    var render = function(){\n",
       "        var model = {\"panes\":[{\"diagrams\":[{\"type\":\"scatter\",\"options\":{\"x\":\"a\",\"y\":\"b\",\"title\":\"I\",\"size\":300,\"tooltip_contents\":[\"I\",\"I\",\"I\"]},\"data\":\"9fc0da37-7ce3-4eae-9bce-4a9f4cd5625c\"},{\"type\":\"scatter\",\"options\":{\"x\":\"a\",\"y\":\"b\",\"title\":\"II\",\"size\":600,\"tooltip_contents\":[\"II\",\"II\"]},\"data\":\"bb98d84e-9351-446e-9737-415fd87e771d\"},{\"type\":\"scatter\",\"options\":{\"x\":\"a\",\"y\":\"b\",\"title\":\"III\",\"size\":900,\"tooltip_contents\":[\"III\",\"III\"]},\"data\":\"1e5e0835-1739-4be9-82ea-2677cc7bbb2c\"}],\"options\":{\"legend\":true,\"zoom\":true,\"width\":800,\"xrange\":[-2,23],\"yrange\":[-6,3]}}],\"data\":{\"9fc0da37-7ce3-4eae-9bce-4a9f4cd5625c\":[{\"a\":1,\"b\":3},{\"a\":4,\"b\":3},{\"a\":5,\"b\":2}],\"bb98d84e-9351-446e-9737-415fd87e771d\":[{\"a\":2,\"b\":1},{\"a\":0,\"b\":0}],\"1e5e0835-1739-4be9-82ea-2677cc7bbb2c\":[{\"a\":-2,\"b\":-6},{\"a\":23,\"b\":1}]},\"extension\":[]}\n",
       "        var id_name = '#vis-1e717fc0-4e42-4543-b0f6-60897c929fae';\n",
       "        Nyaplot.core.parse(model, id_name);\n",
       "\n",
       "        require(['downloadable'], function(downloadable){\n",
       "          var svg = d3.select(id_name).select(\"svg\");\n",
       "\t  if(!svg.empty())\n",
       "\t    svg.call(downloadable().filename('fig'));\n",
       "\t});\n",
       "    };\n",
       "    if(window['Nyaplot']==undefined){\n",
       "        window.addEventListener('load_nyaplot', render, false);\n",
       "\treturn;\n",
       "    } else {\n",
       "       render();\n",
       "    }\n",
       "})();\n",
       "</script>\n"
      ],
      "text/plain": [
       "#<Nyaplot::Frame:0x007fb8c01ddcd0 @properties={:panes=>[#<Nyaplot::Plot:0x007fb8c09c4a98 @properties={:diagrams=>[#<Nyaplot::Diagram:0x007fb8c09b5570 @properties={:type=>:scatter, :options=>{:x=>:a, :y=>:b, :title=>\"I\", :size=>300, :tooltip_contents=>[\"I\", \"I\", \"I\"]}, :data=>\"9fc0da37-7ce3-4eae-9bce-4a9f4cd5625c\"}, @xrange=[1, 5], @yrange=[2, 3]>, #<Nyaplot::Diagram:0x007fb8c01ec730 @properties={:type=>:scatter, :options=>{:x=>:a, :y=>:b, :title=>\"II\", :size=>600, :tooltip_contents=>[\"II\", \"II\"]}, :data=>\"bb98d84e-9351-446e-9737-415fd87e771d\"}, @xrange=[0, 2], @yrange=[0, 1]>, #<Nyaplot::Diagram:0x007fb8c01dece8 @properties={:type=>:scatter, :options=>{:x=>:a, :y=>:b, :title=>\"III\", :size=>900, :tooltip_contents=>[\"III\", \"III\"]}, :data=>\"1e5e0835-1739-4be9-82ea-2677cc7bbb2c\"}, @xrange=[-2, 23], @yrange=[-6, 1]>], :options=>{:legend=>true, :zoom=>true, :width=>800, :xrange=>[-2, 23], :yrange=>[-6, 3]}}>], :data=>{\"9fc0da37-7ce3-4eae-9bce-4a9f4cd5625c\"=>#<Nyaplot::DataFrame:0x007fb8c09b5b38 @name=\"9fc0da37-7ce3-4eae-9bce-4a9f4cd5625c\", @rows=[{:a=>1, :b=>3}, {:a=>4, :b=>3}, {:a=>5, :b=>2}]>, \"bb98d84e-9351-446e-9737-415fd87e771d\"=>#<Nyaplot::DataFrame:0x007fb8c01ecaa0 @name=\"bb98d84e-9351-446e-9737-415fd87e771d\", @rows=[{:a=>2, :b=>1}, {:a=>0, :b=>0}]>, \"1e5e0835-1739-4be9-82ea-2677cc7bbb2c\"=>#<Nyaplot::DataFrame:0x007fb8c01df080 @name=\"1e5e0835-1739-4be9-82ea-2677cc7bbb2c\", @rows=[{:a=>-2, :b=>-6}, {:a=>23, :b=>1}]>}, :extension=>[]}>"
      ]
     },
     "metadata": {},
     "output_type": "display_data"
    },
    {
     "data": {
      "text/html": [
       "<div id='vis-0ee15ccc-58fa-4407-93ba-0e7e3b11b4ba'></div>\n",
       "<script>\n",
       "(function(){\n",
       "    var render = function(){\n",
       "        var model = {\"panes\":[{\"diagrams\":[{\"type\":\"scatter\",\"options\":{\"x\":\"a\",\"y\":\"b\",\"title\":\"I\",\"size\":300,\"tooltip_contents\":[\"I\",\"I\",\"I\"]},\"data\":\"9fc0da37-7ce3-4eae-9bce-4a9f4cd5625c\"},{\"type\":\"scatter\",\"options\":{\"x\":\"a\",\"y\":\"b\",\"title\":\"II\",\"size\":600,\"tooltip_contents\":[\"II\",\"II\"]},\"data\":\"bb98d84e-9351-446e-9737-415fd87e771d\"},{\"type\":\"scatter\",\"options\":{\"x\":\"a\",\"y\":\"b\",\"title\":\"III\",\"size\":900,\"tooltip_contents\":[\"III\",\"III\"]},\"data\":\"1e5e0835-1739-4be9-82ea-2677cc7bbb2c\"}],\"options\":{\"legend\":true,\"zoom\":true,\"width\":800,\"xrange\":[-10,10],\"yrange\":[-10,10]}}],\"data\":{\"9fc0da37-7ce3-4eae-9bce-4a9f4cd5625c\":[{\"a\":1,\"b\":3},{\"a\":4,\"b\":3},{\"a\":5,\"b\":2}],\"bb98d84e-9351-446e-9737-415fd87e771d\":[{\"a\":2,\"b\":1},{\"a\":0,\"b\":0}],\"1e5e0835-1739-4be9-82ea-2677cc7bbb2c\":[{\"a\":-2,\"b\":-6},{\"a\":23,\"b\":1}]},\"extension\":[]}\n",
       "        var id_name = '#vis-0ee15ccc-58fa-4407-93ba-0e7e3b11b4ba';\n",
       "        Nyaplot.core.parse(model, id_name);\n",
       "\n",
       "        require(['downloadable'], function(downloadable){\n",
       "          var svg = d3.select(id_name).select(\"svg\");\n",
       "\t  if(!svg.empty())\n",
       "\t    svg.call(downloadable().filename('fig'));\n",
       "\t});\n",
       "    };\n",
       "    if(window['Nyaplot']==undefined){\n",
       "        window.addEventListener('load_nyaplot', render, false);\n",
       "\treturn;\n",
       "    } else {\n",
       "       render();\n",
       "    }\n",
       "})();\n",
       "</script>\n"
      ],
      "text/plain": [
       "#<Nyaplot::Plot:0x007fb8c09c4a98 @properties={:diagrams=>[#<Nyaplot::Diagram:0x007fb8c09b5570 @properties={:type=>:scatter, :options=>{:x=>:a, :y=>:b, :title=>\"I\", :size=>300, :tooltip_contents=>[\"I\", \"I\", \"I\"]}, :data=>\"9fc0da37-7ce3-4eae-9bce-4a9f4cd5625c\"}, @xrange=[1, 5], @yrange=[2, 3]>, #<Nyaplot::Diagram:0x007fb8c01ec730 @properties={:type=>:scatter, :options=>{:x=>:a, :y=>:b, :title=>\"II\", :size=>600, :tooltip_contents=>[\"II\", \"II\"]}, :data=>\"bb98d84e-9351-446e-9737-415fd87e771d\"}, @xrange=[0, 2], @yrange=[0, 1]>, #<Nyaplot::Diagram:0x007fb8c01dece8 @properties={:type=>:scatter, :options=>{:x=>:a, :y=>:b, :title=>\"III\", :size=>900, :tooltip_contents=>[\"III\", \"III\"]}, :data=>\"1e5e0835-1739-4be9-82ea-2677cc7bbb2c\"}, @xrange=[-2, 23], @yrange=[-6, 1]>], :options=>{:legend=>true, :zoom=>true, :width=>800, :xrange=>[-10, 10], :yrange=>[-10, 10]}}>"
      ]
     },
     "execution_count": 26,
     "metadata": {},
     "output_type": "execute_result"
    }
   ],
   "source": [
    "scatter_4 = Daru::View::Plot.new(df, type: :scatter, x: :a, y: :b, categorized: {by: :c, method: :size, size: [300, 600, 900]})\n",
    "scatter_4.show_in_iruby\n",
    "scatter_4.chart.xrange [-10, 10]\n",
    "scatter_4.chart.yrange [-10, 10]"
   ]
  },
  {
   "cell_type": "markdown",
   "metadata": {},
   "source": [
    "### Line plot categorized by categorical variable\n",
    "It works similar to Scatter plot above and all options are same except that there's no categorization by size but instead there is categorization by stroke_width in line plots."
   ]
  },
  {
   "cell_type": "code",
   "execution_count": 27,
   "metadata": {
    "collapsed": false
   },
   "outputs": [
    {
     "data": {
      "text/plain": [
       ":category"
      ]
     },
     "execution_count": 27,
     "metadata": {},
     "output_type": "execute_result"
    }
   ],
   "source": [
    "df = Daru::DataFrame.new({\n",
    "  a: [1, 2, 3, 4, 5, 6, 7, 8, 9],\n",
    "  b: [2, 4, 6, 1, 3, 5, 6, 4, 3],\n",
    "  c: ['I']*3 + ['II']*3 + ['III']*3\n",
    "  })\n",
    "df.to_category :c\n",
    "df[:c].type"
   ]
  },
  {
   "cell_type": "code",
   "execution_count": 28,
   "metadata": {
    "collapsed": false
   },
   "outputs": [
    {
     "data": {
      "text/html": [
       "<div id='vis-06d93f62-fbfe-4284-ba5a-275486893984'></div>\n",
       "<script>\n",
       "(function(){\n",
       "    var render = function(){\n",
       "        var model = {\"panes\":[{\"diagrams\":[{\"type\":\"line\",\"options\":{\"x\":\"a\",\"y\":\"b\",\"title\":\"I\",\"color\":\"rgb(251,180,174)\"},\"data\":\"39ef503a-1878-4b97-a89c-c97f2e31ef62\"},{\"type\":\"line\",\"options\":{\"x\":\"a\",\"y\":\"b\",\"title\":\"II\",\"color\":\"rgb(179,205,227)\"},\"data\":\"31bf5dbb-f66a-4618-aa20-96ae9fcf9a10\"},{\"type\":\"line\",\"options\":{\"x\":\"a\",\"y\":\"b\",\"title\":\"III\",\"color\":\"rgb(204,235,197)\"},\"data\":\"1bf8b93c-81ea-4275-9cce-619bb5f97b28\"}],\"options\":{\"legend\":true,\"zoom\":true,\"width\":800,\"xrange\":[1,9],\"yrange\":[1,6]}}],\"data\":{\"39ef503a-1878-4b97-a89c-c97f2e31ef62\":[{\"a\":1,\"b\":2},{\"a\":2,\"b\":4},{\"a\":3,\"b\":6}],\"31bf5dbb-f66a-4618-aa20-96ae9fcf9a10\":[{\"a\":4,\"b\":1},{\"a\":5,\"b\":3},{\"a\":6,\"b\":5}],\"1bf8b93c-81ea-4275-9cce-619bb5f97b28\":[{\"a\":7,\"b\":6},{\"a\":8,\"b\":4},{\"a\":9,\"b\":3}]},\"extension\":[]}\n",
       "        var id_name = '#vis-06d93f62-fbfe-4284-ba5a-275486893984';\n",
       "        Nyaplot.core.parse(model, id_name);\n",
       "\n",
       "        require(['downloadable'], function(downloadable){\n",
       "          var svg = d3.select(id_name).select(\"svg\");\n",
       "\t  if(!svg.empty())\n",
       "\t    svg.call(downloadable().filename('fig'));\n",
       "\t});\n",
       "    };\n",
       "    if(window['Nyaplot']==undefined){\n",
       "        window.addEventListener('load_nyaplot', render, false);\n",
       "\treturn;\n",
       "    } else {\n",
       "       render();\n",
       "    }\n",
       "})();\n",
       "</script>\n"
      ],
      "text/plain": [
       "#<Nyaplot::Frame:0x007fb8bfa4ab80 @properties={:panes=>[#<Nyaplot::Plot:0x007fb8c019e2d8 @properties={:diagrams=>[#<Nyaplot::Diagram:0x007fb8c018cbc8 @properties={:type=>:line, :options=>{:x=>:a, :y=>:b, :title=>\"I\", :color=>\"rgb(251,180,174)\"}, :data=>\"39ef503a-1878-4b97-a89c-c97f2e31ef62\"}, @xrange=[1, 3], @yrange=[2, 6]>, #<Nyaplot::Diagram:0x007fb8c0177868 @properties={:type=>:line, :options=>{:x=>:a, :y=>:b, :title=>\"II\", :color=>\"rgb(179,205,227)\"}, :data=>\"31bf5dbb-f66a-4618-aa20-96ae9fcf9a10\"}, @xrange=[4, 6], @yrange=[1, 5]>, #<Nyaplot::Diagram:0x007fb8c11d0570 @properties={:type=>:line, :options=>{:x=>:a, :y=>:b, :title=>\"III\", :color=>\"rgb(204,235,197)\"}, :data=>\"1bf8b93c-81ea-4275-9cce-619bb5f97b28\"}, @xrange=[7, 9], @yrange=[3, 6]>], :options=>{:legend=>true, :zoom=>true, :width=>800, :xrange=>[1, 9], :yrange=>[1, 6]}}>], :data=>{\"39ef503a-1878-4b97-a89c-c97f2e31ef62\"=>#<Nyaplot::DataFrame:0x007fb8c018d078 @name=\"39ef503a-1878-4b97-a89c-c97f2e31ef62\", @rows=[{:a=>1, :b=>2}, {:a=>2, :b=>4}, {:a=>3, :b=>6}]>, \"31bf5dbb-f66a-4618-aa20-96ae9fcf9a10\"=>#<Nyaplot::DataFrame:0x007fb8bfa58b68 @name=\"31bf5dbb-f66a-4618-aa20-96ae9fcf9a10\", @rows=[{:a=>4, :b=>1}, {:a=>5, :b=>3}, {:a=>6, :b=>5}]>, \"1bf8b93c-81ea-4275-9cce-619bb5f97b28\"=>#<Nyaplot::DataFrame:0x007fb8c11d09d0 @name=\"1bf8b93c-81ea-4275-9cce-619bb5f97b28\", @rows=[{:a=>7, :b=>6}, {:a=>8, :b=>4}, {:a=>9, :b=>3}]>}, :extension=>[]}>"
      ]
     },
     "metadata": {},
     "output_type": "display_data"
    }
   ],
   "source": [
    "line_1 = Daru::View::Plot.new(df, type: :line, x: :a, y: :b, categorized: {by: :c, method: :color})\n",
    "line_1.show_in_iruby"
   ]
  },
  {
   "cell_type": "code",
   "execution_count": 29,
   "metadata": {
    "collapsed": false
   },
   "outputs": [
    {
     "data": {
      "text/html": [
       "<div id='vis-9f553af5-f9d1-46a0-b7cd-a33fb13d5d28'></div>\n",
       "<script>\n",
       "(function(){\n",
       "    var render = function(){\n",
       "        var model = {\"panes\":[{\"diagrams\":[{\"type\":\"line\",\"options\":{\"x\":\"a\",\"y\":\"b\",\"title\":\"I\",\"stroke_width\":2},\"data\":\"d6d14948-d707-4a1c-b902-61ab43a8e612\"},{\"type\":\"line\",\"options\":{\"x\":\"a\",\"y\":\"b\",\"title\":\"II\",\"stroke_width\":4},\"data\":\"4e2cd526-15e2-4d01-a48d-e3b0b1cc1667\"},{\"type\":\"line\",\"options\":{\"x\":\"a\",\"y\":\"b\",\"title\":\"III\",\"stroke_width\":6},\"data\":\"67e9f5c4-7125-445c-8162-1add835b1ff1\"}],\"options\":{\"legend\":true,\"zoom\":true,\"width\":800,\"xrange\":[1,9],\"yrange\":[1,6]}}],\"data\":{\"d6d14948-d707-4a1c-b902-61ab43a8e612\":[{\"a\":1,\"b\":2},{\"a\":2,\"b\":4},{\"a\":3,\"b\":6}],\"4e2cd526-15e2-4d01-a48d-e3b0b1cc1667\":[{\"a\":4,\"b\":1},{\"a\":5,\"b\":3},{\"a\":6,\"b\":5}],\"67e9f5c4-7125-445c-8162-1add835b1ff1\":[{\"a\":7,\"b\":6},{\"a\":8,\"b\":4},{\"a\":9,\"b\":3}]},\"extension\":[]}\n",
       "        var id_name = '#vis-9f553af5-f9d1-46a0-b7cd-a33fb13d5d28';\n",
       "        Nyaplot.core.parse(model, id_name);\n",
       "\n",
       "        require(['downloadable'], function(downloadable){\n",
       "          var svg = d3.select(id_name).select(\"svg\");\n",
       "\t  if(!svg.empty())\n",
       "\t    svg.call(downloadable().filename('fig'));\n",
       "\t});\n",
       "    };\n",
       "    if(window['Nyaplot']==undefined){\n",
       "        window.addEventListener('load_nyaplot', render, false);\n",
       "\treturn;\n",
       "    } else {\n",
       "       render();\n",
       "    }\n",
       "})();\n",
       "</script>\n"
      ],
      "text/plain": [
       "#<Nyaplot::Frame:0x007fb8bfa1b6f0 @properties={:panes=>[#<Nyaplot::Plot:0x007fb8c00ee9a0 @properties={:diagrams=>[#<Nyaplot::Diagram:0x007fb8bfa3aaf0 @properties={:type=>:line, :options=>{:x=>:a, :y=>:b, :title=>\"I\", :stroke_width=>2}, :data=>\"d6d14948-d707-4a1c-b902-61ab43a8e612\"}, @xrange=[1, 3], @yrange=[2, 6]>, #<Nyaplot::Diagram:0x007fb8c09958b0 @properties={:type=>:line, :options=>{:x=>:a, :y=>:b, :title=>\"II\", :stroke_width=>4}, :data=>\"4e2cd526-15e2-4d01-a48d-e3b0b1cc1667\"}, @xrange=[4, 6], @yrange=[1, 5]>, #<Nyaplot::Diagram:0x007fb8bfa20b50 @properties={:type=>:line, :options=>{:x=>:a, :y=>:b, :title=>\"III\", :stroke_width=>6}, :data=>\"67e9f5c4-7125-445c-8162-1add835b1ff1\"}, @xrange=[7, 9], @yrange=[3, 6]>], :options=>{:legend=>true, :zoom=>true, :width=>800, :xrange=>[1, 9], :yrange=>[1, 6]}}>], :data=>{\"d6d14948-d707-4a1c-b902-61ab43a8e612\"=>#<Nyaplot::DataFrame:0x007fb8bfa3b018 @name=\"d6d14948-d707-4a1c-b902-61ab43a8e612\", @rows=[{:a=>1, :b=>2}, {:a=>2, :b=>4}, {:a=>3, :b=>6}]>, \"4e2cd526-15e2-4d01-a48d-e3b0b1cc1667\"=>#<Nyaplot::DataFrame:0x007fb8c0995dd8 @name=\"4e2cd526-15e2-4d01-a48d-e3b0b1cc1667\", @rows=[{:a=>4, :b=>1}, {:a=>5, :b=>3}, {:a=>6, :b=>5}]>, \"67e9f5c4-7125-445c-8162-1add835b1ff1\"=>#<Nyaplot::DataFrame:0x007fb8bfa21230 @name=\"67e9f5c4-7125-445c-8162-1add835b1ff1\", @rows=[{:a=>7, :b=>6}, {:a=>8, :b=>4}, {:a=>9, :b=>3}]>}, :extension=>[]}>"
      ]
     },
     "metadata": {},
     "output_type": "display_data"
    },
    {
     "data": {
      "text/html": [
       "<div id='vis-2b5da727-765e-4f43-adc0-4c8c37bceabe'></div>\n",
       "<script>\n",
       "(function(){\n",
       "    var render = function(){\n",
       "        var model = {\"panes\":[{\"diagrams\":[{\"type\":\"line\",\"options\":{\"x\":\"a\",\"y\":\"b\",\"title\":\"I\",\"stroke_width\":2},\"data\":\"d6d14948-d707-4a1c-b902-61ab43a8e612\"},{\"type\":\"line\",\"options\":{\"x\":\"a\",\"y\":\"b\",\"title\":\"II\",\"stroke_width\":4},\"data\":\"4e2cd526-15e2-4d01-a48d-e3b0b1cc1667\"},{\"type\":\"line\",\"options\":{\"x\":\"a\",\"y\":\"b\",\"title\":\"III\",\"stroke_width\":6},\"data\":\"67e9f5c4-7125-445c-8162-1add835b1ff1\"}],\"options\":{\"legend\":true,\"zoom\":true,\"width\":800,\"xrange\":[-10,10],\"yrange\":[-10,10]}}],\"data\":{\"d6d14948-d707-4a1c-b902-61ab43a8e612\":[{\"a\":1,\"b\":2},{\"a\":2,\"b\":4},{\"a\":3,\"b\":6}],\"4e2cd526-15e2-4d01-a48d-e3b0b1cc1667\":[{\"a\":4,\"b\":1},{\"a\":5,\"b\":3},{\"a\":6,\"b\":5}],\"67e9f5c4-7125-445c-8162-1add835b1ff1\":[{\"a\":7,\"b\":6},{\"a\":8,\"b\":4},{\"a\":9,\"b\":3}]},\"extension\":[]}\n",
       "        var id_name = '#vis-2b5da727-765e-4f43-adc0-4c8c37bceabe';\n",
       "        Nyaplot.core.parse(model, id_name);\n",
       "\n",
       "        require(['downloadable'], function(downloadable){\n",
       "          var svg = d3.select(id_name).select(\"svg\");\n",
       "\t  if(!svg.empty())\n",
       "\t    svg.call(downloadable().filename('fig'));\n",
       "\t});\n",
       "    };\n",
       "    if(window['Nyaplot']==undefined){\n",
       "        window.addEventListener('load_nyaplot', render, false);\n",
       "\treturn;\n",
       "    } else {\n",
       "       render();\n",
       "    }\n",
       "})();\n",
       "</script>\n"
      ],
      "text/plain": [
       "#<Nyaplot::Plot:0x007fb8c00ee9a0 @properties={:diagrams=>[#<Nyaplot::Diagram:0x007fb8bfa3aaf0 @properties={:type=>:line, :options=>{:x=>:a, :y=>:b, :title=>\"I\", :stroke_width=>2}, :data=>\"d6d14948-d707-4a1c-b902-61ab43a8e612\"}, @xrange=[1, 3], @yrange=[2, 6]>, #<Nyaplot::Diagram:0x007fb8c09958b0 @properties={:type=>:line, :options=>{:x=>:a, :y=>:b, :title=>\"II\", :stroke_width=>4}, :data=>\"4e2cd526-15e2-4d01-a48d-e3b0b1cc1667\"}, @xrange=[4, 6], @yrange=[1, 5]>, #<Nyaplot::Diagram:0x007fb8bfa20b50 @properties={:type=>:line, :options=>{:x=>:a, :y=>:b, :title=>\"III\", :stroke_width=>6}, :data=>\"67e9f5c4-7125-445c-8162-1add835b1ff1\"}, @xrange=[7, 9], @yrange=[3, 6]>], :options=>{:legend=>true, :zoom=>true, :width=>800, :xrange=>[-10, 10], :yrange=>[-10, 10]}}>"
      ]
     },
     "execution_count": 29,
     "metadata": {},
     "output_type": "execute_result"
    }
   ],
   "source": [
    "line_2 = Daru::View::Plot.new(df, type: :line, x: :a, y: :b, categorized: {by: :c, method: :stroke_width})\n",
    "line_2.show_in_iruby\n",
    "line_2.chart.xrange [-10, 10]\n",
    "line_2.chart.yrange [-10, 10]"
   ]
  },
  {
   "cell_type": "code",
   "execution_count": null,
   "metadata": {
    "collapsed": true
   },
   "outputs": [],
   "source": []
  }
 ],
 "metadata": {
  "kernelspec": {
   "display_name": "Ruby 2.3.1",
   "language": "ruby",
   "name": "ruby"
  },
  "language_info": {
   "file_extension": ".rb",
   "mimetype": "application/x-ruby",
   "name": "ruby",
   "version": "2.3.1"
  }
 },
 "nbformat": 4,
 "nbformat_minor": 2
}
