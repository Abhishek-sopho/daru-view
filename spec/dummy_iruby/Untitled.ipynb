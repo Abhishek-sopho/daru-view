{
 "cells": [
  {
   "cell_type": "code",
   "execution_count": 1,
   "metadata": {
    "collapsed": false
   },
   "outputs": [
    {
     "name": "stderr",
     "output_type": "stream",
     "text": [
      "\n",
      "Install the spreadsheet gem version ~>1.1.1 for using spreadsheet functions.\n",
      "\n",
      "Install the mechanize gem version ~>2.7.5 for using mechanize functions.\n"
     ]
    },
    {
     "data": {
      "text/plain": [
       "true"
      ]
     },
     "execution_count": 1,
     "metadata": {},
     "output_type": "execute_result"
    }
   ],
   "source": [
    "require 'daru/view'"
   ]
  },
  {
   "cell_type": "code",
   "execution_count": 2,
   "metadata": {
    "collapsed": false
   },
   "outputs": [
    {
     "data": {
      "text/plain": [
       ":googlecharts"
      ]
     },
     "execution_count": 2,
     "metadata": {},
     "output_type": "execute_result"
    }
   ],
   "source": [
    "Daru::View.plotting_library = :googlecharts"
   ]
  },
  {
   "cell_type": "code",
   "execution_count": 3,
   "metadata": {
    "collapsed": false
   },
   "outputs": [
    {
     "data": {
      "text/plain": [
       "#<GoogleVisualr::Interactive::BarChart:0x007f93550e7258 @data_table=#<GoogleVisualr::DataTable:0x007f93550ef1d8 @cols=[{:type=>\"string\", :label=>\"Year\"}, {:type=>\"number\", :label=>\"Sales\"}, {:type=>\"number\", :label=>\"Expenses\"}], @rows=[[#<GoogleVisualr::DataTable::Cell:0x007f93550e7ed8 @v=\"2004\", @type=\"string\">, #<GoogleVisualr::DataTable::Cell:0x007f93550e7e38 @v=1000, @type=\"number\">, #<GoogleVisualr::DataTable::Cell:0x007f93550e7d98 @v=400, @type=\"number\">], [#<GoogleVisualr::DataTable::Cell:0x007f93550e7cf8 @v=\"2005\", @type=\"string\">, #<GoogleVisualr::DataTable::Cell:0x007f93550e7c80 @v=1170, @type=\"number\">, #<GoogleVisualr::DataTable::Cell:0x007f93550e7bb8 @v=460, @type=\"number\">], [#<GoogleVisualr::DataTable::Cell:0x007f93550e7aa0 @v=\"2006\", @type=\"string\">, #<GoogleVisualr::DataTable::Cell:0x007f93550e7a00 @v=660, @type=\"number\">, #<GoogleVisualr::DataTable::Cell:0x007f93550e78e8 @v=1120, @type=\"number\">], [#<GoogleVisualr::DataTable::Cell:0x007f93550e7730 @v=\"2007\", @type=\"string\">, #<GoogleVisualr::DataTable::Cell:0x007f93550e74b0 @v=1030, @type=\"number\">, #<GoogleVisualr::DataTable::Cell:0x007f93550e73e8 @v=540, @type=\"number\">]]>, @listeners=[], @version=\"1.0\", @language=nil, @material=false, @options={\"width\"=>400, \"height\"=>240, \"title\"=>\"Company Performance\", \"vAxis\"=>{:title=>\"Year\", :titleTextStyle=>{:color=>\"red\"}}}>"
      ]
     },
     "execution_count": 3,
     "metadata": {},
     "output_type": "execute_result"
    }
   ],
   "source": [
    "data_table = GoogleVisualr::DataTable.new\n",
    "data_table.new_column('string', 'Year')\n",
    "data_table.new_column('number', 'Sales')\n",
    "data_table.new_column('number', 'Expenses')\n",
    "data_table.add_rows(4)\n",
    "data_table.set_cell(0, 0, '2004')\n",
    "data_table.set_cell(0, 1, 1000)\n",
    "data_table.set_cell(0, 2, 400)\n",
    "data_table.set_cell(1, 0, '2005')\n",
    "data_table.set_cell(1, 1, 1170)\n",
    "data_table.set_cell(1, 2, 460)\n",
    "data_table.set_cell(2, 0, '2006')\n",
    "data_table.set_cell(2, 1, 660)\n",
    "data_table.set_cell(2, 2, 1120)\n",
    "data_table.set_cell(3, 0, '2007')\n",
    "data_table.set_cell(3, 1, 1030)\n",
    "data_table.set_cell(3, 2, 540)\n",
    "\n",
    "opts   = { :width => 400, :height => 240, :title => 'Company Performance', vAxis: { title: 'Year', titleTextStyle: { color: 'red' } } }\n",
    "bar_chart = GoogleVisualr::Interactive::BarChart.new(data_table, opts)"
   ]
  },
  {
   "cell_type": "code",
   "execution_count": 4,
   "metadata": {
    "collapsed": false
   },
   "outputs": [
    {
     "data": {
      "text/plain": [
       "GoogleVisualr::Interactive::BarChart"
      ]
     },
     "execution_count": 4,
     "metadata": {},
     "output_type": "execute_result"
    }
   ],
   "source": [
    "bar_chart.class"
   ]
  },
  {
   "cell_type": "code",
   "execution_count": 5,
   "metadata": {
    "collapsed": false
   },
   "outputs": [
    {
     "data": {
      "text/plain": [
       "GoogleVisualr::DataTable"
      ]
     },
     "execution_count": 5,
     "metadata": {},
     "output_type": "execute_result"
    }
   ],
   "source": [
    "data_table.class"
   ]
  },
  {
   "cell_type": "code",
   "execution_count": 7,
   "metadata": {
    "collapsed": false
   },
   "outputs": [
    {
     "data": {
      "text/plain": [
       "true"
      ]
     },
     "execution_count": 7,
     "metadata": {},
     "output_type": "execute_result"
    }
   ],
   "source": [
    "data_table.is_a? GoogleVisualr::DataTable"
   ]
  },
  {
   "cell_type": "code",
   "execution_count": null,
   "metadata": {
    "collapsed": true
   },
   "outputs": [],
   "source": []
  }
 ],
 "metadata": {
  "kernelspec": {
   "display_name": "Ruby 2.3.1",
   "language": "ruby",
   "name": "ruby"
  },
  "language_info": {
   "file_extension": ".rb",
   "mimetype": "application/x-ruby",
   "name": "ruby",
   "version": "2.3.1"
  }
 },
 "nbformat": 4,
 "nbformat_minor": 2
}
